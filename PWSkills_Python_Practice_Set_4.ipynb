{
 "cells": [
  {
   "cell_type": "markdown",
   "metadata": {},
   "source": [
    "Q.1. Create a class called \"Person\" with properties for \"name\", \"age\", and \"gender\". Create an object of this\n",
    "class and print out its properties."
   ]
  },
  {
   "cell_type": "code",
   "execution_count": 1,
   "metadata": {},
   "outputs": [],
   "source": [
    "class Person:\n",
    "    def __init__(self, name, age, gender):\n",
    "        self.name = name\n",
    "        self.age = age\n",
    "        self.gender = gender\n",
    "        \n",
    "    def return_person_detail(self):\n",
    "        return self.name, self.age, self.gender"
   ]
  },
  {
   "cell_type": "code",
   "execution_count": 2,
   "metadata": {},
   "outputs": [],
   "source": [
    "object = Person(\"Kiran\", 28, \"Male\")"
   ]
  },
  {
   "cell_type": "code",
   "execution_count": 3,
   "metadata": {},
   "outputs": [
    {
     "name": "stdout",
     "output_type": "stream",
     "text": [
      "('Kiran', 28, 'Male')\n"
     ]
    }
   ],
   "source": [
    "print(object.return_person_detail())"
   ]
  },
  {
   "cell_type": "code",
   "execution_count": 4,
   "metadata": {},
   "outputs": [
    {
     "name": "stdout",
     "output_type": "stream",
     "text": [
      "Kiran\n"
     ]
    }
   ],
   "source": [
    "print(object.name)"
   ]
  },
  {
   "cell_type": "code",
   "execution_count": 5,
   "metadata": {},
   "outputs": [
    {
     "name": "stdout",
     "output_type": "stream",
     "text": [
      "28\n"
     ]
    }
   ],
   "source": [
    "print(object.age)"
   ]
  },
  {
   "cell_type": "code",
   "execution_count": 6,
   "metadata": {},
   "outputs": [
    {
     "name": "stdout",
     "output_type": "stream",
     "text": [
      "Male\n"
     ]
    }
   ],
   "source": [
    "print(object.gender)"
   ]
  },
  {
   "cell_type": "markdown",
   "metadata": {},
   "source": [
    "Q.2. Write a Python class called \"Rectangle\" with attributes for \"width\" and \"height\". Implement methods\n",
    "to calculate the area and perimeter of the rectangle. Create an instance of this class and use it to print out\n",
    "the rectangle's area and perimeter."
   ]
  },
  {
   "cell_type": "code",
   "execution_count": 7,
   "metadata": {},
   "outputs": [],
   "source": [
    "class Rectangle:\n",
    "    def __init__(self, width, height):\n",
    "        self.width = width\n",
    "        self.height = height\n",
    "        \n",
    "    def return_area_and_perimeter(self):\n",
    "        area = self.width * self.height\n",
    "        perimeter = (2 * self.width) + (2 * self.height)\n",
    "        return f\"The area of given rectangle is {area} and perimeter of given rectangle is {perimeter}.\" "
   ]
  },
  {
   "cell_type": "code",
   "execution_count": 8,
   "metadata": {},
   "outputs": [],
   "source": [
    "object2 = Rectangle(5, 20)"
   ]
  },
  {
   "cell_type": "code",
   "execution_count": 9,
   "metadata": {},
   "outputs": [
    {
     "name": "stdout",
     "output_type": "stream",
     "text": [
      "The area of given rectangle is 100 and perimeter of given rectangle is 50.\n"
     ]
    }
   ],
   "source": [
    "print(object2.return_area_and_perimeter())"
   ]
  },
  {
   "cell_type": "code",
   "execution_count": 10,
   "metadata": {},
   "outputs": [
    {
     "data": {
      "text/plain": [
       "20"
      ]
     },
     "execution_count": 10,
     "metadata": {},
     "output_type": "execute_result"
    }
   ],
   "source": [
    "object2.height"
   ]
  },
  {
   "cell_type": "code",
   "execution_count": 11,
   "metadata": {},
   "outputs": [
    {
     "data": {
      "text/plain": [
       "5"
      ]
     },
     "execution_count": 11,
     "metadata": {},
     "output_type": "execute_result"
    }
   ],
   "source": [
    "object2.width"
   ]
  },
  {
   "cell_type": "markdown",
   "metadata": {},
   "source": [
    "Q.3. Write a Python class called \"BankAccount\" with attributes for \"balance\" and \"interest_rate\".\n",
    "Implement methods to deposit and withdraw money from the account, as well as to calculate the interest\n",
    "earned on the balance based on the interest rate. Create an instance of this class and use it to test out the\n",
    "implemented methods for deposit, withdrawal, and interest calculation."
   ]
  },
  {
   "cell_type": "code",
   "execution_count": 12,
   "metadata": {},
   "outputs": [],
   "source": [
    "class BankAccount:\n",
    "    def __init__(self, balance, interest_rate):\n",
    "        self.balance = balance\n",
    "        self.interest_rate = interest_rate\n",
    "        \n",
    "    def deposit(self, amount):\n",
    "        if amount > 0:\n",
    "            self.balance += amount\n",
    "            return f\"Deposited Money : ${amount}. New Balance : {self.balance}.\"\n",
    "        else:\n",
    "            return \"Invalid Deposit Money.\"\n",
    "        \n",
    "    def withdraw(self, amount):\n",
    "        if 0 < amount <= self.balance:\n",
    "            self.balance -= amount\n",
    "            return f\"Withdrawal Money : {amount}. New Balance : {self.balance}.\"\n",
    "        else:\n",
    "            return \"Invalid Withdrawal Money or Insufficient Balance.\"\n",
    "        \n",
    "    def interest(self):\n",
    "        interest_amount = self.balance * (self.interest_rate/100)\n",
    "        return interest_amount"
   ]
  },
  {
   "cell_type": "code",
   "execution_count": 13,
   "metadata": {},
   "outputs": [],
   "source": [
    "my_account = BankAccount(1000, 2.5)"
   ]
  },
  {
   "cell_type": "code",
   "execution_count": 14,
   "metadata": {},
   "outputs": [
    {
     "data": {
      "text/plain": [
       "1000"
      ]
     },
     "execution_count": 14,
     "metadata": {},
     "output_type": "execute_result"
    }
   ],
   "source": [
    "my_account.balance"
   ]
  },
  {
   "cell_type": "code",
   "execution_count": 15,
   "metadata": {},
   "outputs": [
    {
     "data": {
      "text/plain": [
       "2.5"
      ]
     },
     "execution_count": 15,
     "metadata": {},
     "output_type": "execute_result"
    }
   ],
   "source": [
    "my_account.interest_rate"
   ]
  },
  {
   "cell_type": "code",
   "execution_count": 16,
   "metadata": {},
   "outputs": [
    {
     "name": "stdout",
     "output_type": "stream",
     "text": [
      "25.0\n"
     ]
    }
   ],
   "source": [
    "print(my_account.interest())"
   ]
  },
  {
   "cell_type": "code",
   "execution_count": 17,
   "metadata": {},
   "outputs": [
    {
     "data": {
      "text/plain": [
       "'Deposited Money : $6000. New Balance : 7000.'"
      ]
     },
     "execution_count": 17,
     "metadata": {},
     "output_type": "execute_result"
    }
   ],
   "source": [
    "my_account.deposit(6000)"
   ]
  },
  {
   "cell_type": "code",
   "execution_count": 18,
   "metadata": {},
   "outputs": [
    {
     "name": "stdout",
     "output_type": "stream",
     "text": [
      "175.0\n"
     ]
    }
   ],
   "source": [
    "print(my_account.interest())"
   ]
  },
  {
   "cell_type": "code",
   "execution_count": 19,
   "metadata": {},
   "outputs": [
    {
     "data": {
      "text/plain": [
       "'Withdrawal Money : 2500. New Balance : 4500.'"
      ]
     },
     "execution_count": 19,
     "metadata": {},
     "output_type": "execute_result"
    }
   ],
   "source": [
    "my_account.withdraw(2500)"
   ]
  },
  {
   "cell_type": "code",
   "execution_count": 20,
   "metadata": {},
   "outputs": [
    {
     "data": {
      "text/plain": [
       "4500"
      ]
     },
     "execution_count": 20,
     "metadata": {},
     "output_type": "execute_result"
    }
   ],
   "source": [
    "my_account.balance"
   ]
  },
  {
   "cell_type": "code",
   "execution_count": 21,
   "metadata": {},
   "outputs": [
    {
     "name": "stdout",
     "output_type": "stream",
     "text": [
      "112.5\n"
     ]
    }
   ],
   "source": [
    "print(my_account.interest())"
   ]
  },
  {
   "cell_type": "code",
   "execution_count": 22,
   "metadata": {},
   "outputs": [
    {
     "data": {
      "text/plain": [
       "'Deposited Money : $2500. New Balance : 7000.'"
      ]
     },
     "execution_count": 22,
     "metadata": {},
     "output_type": "execute_result"
    }
   ],
   "source": [
    "my_account.deposit(2500)"
   ]
  },
  {
   "cell_type": "code",
   "execution_count": 23,
   "metadata": {},
   "outputs": [
    {
     "data": {
      "text/plain": [
       "'Withdrawal Money : 2000. New Balance : 5000.'"
      ]
     },
     "execution_count": 23,
     "metadata": {},
     "output_type": "execute_result"
    }
   ],
   "source": [
    "my_account.withdraw(2000)"
   ]
  },
  {
   "cell_type": "code",
   "execution_count": 24,
   "metadata": {},
   "outputs": [
    {
     "name": "stdout",
     "output_type": "stream",
     "text": [
      "Interest Earned : $125.00\n"
     ]
    }
   ],
   "source": [
    "interest_earned = my_account.interest()\n",
    "print(f\"Interest Earned : ${interest_earned:.2f}\")"
   ]
  },
  {
   "cell_type": "markdown",
   "metadata": {},
   "source": [
    "Q.4. Write a Python class called \"Animal\" with attributes for \"name\" and \"species\". Create a subclass of\n",
    "\"Animal\" called \"Dog\" with additional attributes for \"breed\" and \"owner\". Implement both classes with\n",
    "appropriate methods and constructors to initialise their properties. Create instances of both classes and\n",
    "use them to print out the various properties of the animals and dogs, such as their names, species,\n",
    "breeds, and owners."
   ]
  },
  {
   "cell_type": "code",
   "execution_count": 25,
   "metadata": {},
   "outputs": [
    {
     "name": "stdout",
     "output_type": "stream",
     "text": [
      "Lionel is a Lion\n",
      "Buddy is a Golden Retriever Dog owned by Alice\n"
     ]
    }
   ],
   "source": [
    "class Animal:\n",
    "    def __init__(self, name, species):\n",
    "        self.name = name\n",
    "        self.species = species\n",
    "\n",
    "    def __str__(self):\n",
    "        return f\"{self.name} is a {self.species}\"\n",
    "\n",
    "class Dog(Animal):\n",
    "    def __init__(self, name, species, breed, owner):\n",
    "        super().__init__(name, species)\n",
    "        self.breed = breed\n",
    "        self.owner = owner\n",
    "\n",
    "    def __str__(self):\n",
    "        return f\"{self.name} is a {self.breed} {self.species} owned by {self.owner}\"\n",
    "\n",
    "# Create an instance of the Animal class\n",
    "my_animal = Animal(\"Lionel\", \"Lion\")\n",
    "\n",
    "# Create an instance of the Dog subclass\n",
    "my_dog = Dog(\"Buddy\", \"Dog\", \"Golden Retriever\", \"Alice\")\n",
    "\n",
    "# Print information about the animal and dog\n",
    "print(my_animal)  \n",
    "print(my_dog)     \n"
   ]
  },
  {
   "cell_type": "code",
   "execution_count": 26,
   "metadata": {},
   "outputs": [],
   "source": [
    "class Animal:\n",
    "    def __init__(self, name, species):\n",
    "        self.name = name\n",
    "        self.species = species\n",
    "        \n",
    "    def animal_detail(self):\n",
    "        return f\"{self.name} is a {self.species}.\"\n",
    "    \n",
    "class Dog(Animal):\n",
    "    def __init__(self, name, species, breed, owner):\n",
    "        super().__init__(name, species)\n",
    "        self.breed = breed\n",
    "        self.owner = owner\n",
    "        \n",
    "    def dog_detail(self):\n",
    "        return f\"{self.name} is a {self.breed} {self.species} owned by {self.owner}.\""
   ]
  },
  {
   "cell_type": "code",
   "execution_count": 27,
   "metadata": {},
   "outputs": [],
   "source": [
    "animal_obj = Animal(\"Siri\", \"cat\")"
   ]
  },
  {
   "cell_type": "code",
   "execution_count": 28,
   "metadata": {},
   "outputs": [
    {
     "data": {
      "text/plain": [
       "'Siri'"
      ]
     },
     "execution_count": 28,
     "metadata": {},
     "output_type": "execute_result"
    }
   ],
   "source": [
    "animal_obj.name"
   ]
  },
  {
   "cell_type": "code",
   "execution_count": 29,
   "metadata": {},
   "outputs": [
    {
     "data": {
      "text/plain": [
       "'cat'"
      ]
     },
     "execution_count": 29,
     "metadata": {},
     "output_type": "execute_result"
    }
   ],
   "source": [
    "animal_obj.species"
   ]
  },
  {
   "cell_type": "code",
   "execution_count": 30,
   "metadata": {},
   "outputs": [
    {
     "name": "stdout",
     "output_type": "stream",
     "text": [
      "Siri is a cat.\n"
     ]
    }
   ],
   "source": [
    "print(animal_obj.animal_detail())"
   ]
  },
  {
   "cell_type": "code",
   "execution_count": 31,
   "metadata": {},
   "outputs": [],
   "source": [
    "dog_obj = Dog(\"Tiger\", \"Dog\", \"Labrador Retriever\", \"Niraj\")"
   ]
  },
  {
   "cell_type": "code",
   "execution_count": 32,
   "metadata": {},
   "outputs": [
    {
     "data": {
      "text/plain": [
       "'Tiger'"
      ]
     },
     "execution_count": 32,
     "metadata": {},
     "output_type": "execute_result"
    }
   ],
   "source": [
    "dog_obj.name"
   ]
  },
  {
   "cell_type": "code",
   "execution_count": 33,
   "metadata": {},
   "outputs": [
    {
     "data": {
      "text/plain": [
       "'Dog'"
      ]
     },
     "execution_count": 33,
     "metadata": {},
     "output_type": "execute_result"
    }
   ],
   "source": [
    "dog_obj.species"
   ]
  },
  {
   "cell_type": "code",
   "execution_count": 34,
   "metadata": {},
   "outputs": [
    {
     "data": {
      "text/plain": [
       "'Labrador Retriever'"
      ]
     },
     "execution_count": 34,
     "metadata": {},
     "output_type": "execute_result"
    }
   ],
   "source": [
    "dog_obj.breed"
   ]
  },
  {
   "cell_type": "code",
   "execution_count": 35,
   "metadata": {},
   "outputs": [
    {
     "data": {
      "text/plain": [
       "'Niraj'"
      ]
     },
     "execution_count": 35,
     "metadata": {},
     "output_type": "execute_result"
    }
   ],
   "source": [
    "dog_obj.owner"
   ]
  },
  {
   "cell_type": "code",
   "execution_count": 36,
   "metadata": {},
   "outputs": [
    {
     "name": "stdout",
     "output_type": "stream",
     "text": [
      "Tiger is a Dog.\n"
     ]
    }
   ],
   "source": [
    "print(dog_obj.animal_detail())"
   ]
  },
  {
   "cell_type": "code",
   "execution_count": 37,
   "metadata": {},
   "outputs": [
    {
     "name": "stdout",
     "output_type": "stream",
     "text": [
      "Tiger is a Labrador Retriever Dog owned by Niraj.\n"
     ]
    }
   ],
   "source": [
    "print(dog_obj.dog_detail())"
   ]
  },
  {
   "cell_type": "markdown",
   "metadata": {},
   "source": [
    "Q.5. Create a class called \"Car\" with properties for \"make\", \"model\", and \"year\". Create a subclass of \"Car\"\n",
    "called \"ElectricCar\" with additional properties for \"battery_size\" and \"range\". Create objects of both\n",
    "classes and print out their properties."
   ]
  },
  {
   "cell_type": "code",
   "execution_count": 38,
   "metadata": {},
   "outputs": [],
   "source": [
    "class Car:\n",
    "    def __init__(self, make, model, year):\n",
    "        self.make = make\n",
    "        self.model = model\n",
    "        self.year = year\n",
    "        \n",
    "    def __str__(self):\n",
    "        return f\"{self.make} {self.model} is officially launched in {self.year}.\"\n",
    "    \n",
    "class ElectricCar(Car):\n",
    "    def __init__(self, make, model, year, battery_size, range):\n",
    "        super().__init__(make, model, year)\n",
    "        self.battery_size = battery_size\n",
    "        self.range = range\n",
    "        \n",
    "    def __str__(self):\n",
    "        return f\"The {self.make} {self.model} is an electric car launched in {self.year} with electric range {self.range} and {self.battery_size} battery.\""
   ]
  },
  {
   "cell_type": "code",
   "execution_count": 39,
   "metadata": {},
   "outputs": [],
   "source": [
    "car_obj = Car(\"Tesla\", \"Model S\", 2022)"
   ]
  },
  {
   "cell_type": "code",
   "execution_count": 40,
   "metadata": {},
   "outputs": [
    {
     "name": "stdout",
     "output_type": "stream",
     "text": [
      "Tesla Model S is officially launched in 2022.\n"
     ]
    }
   ],
   "source": [
    "print(car_obj)"
   ]
  },
  {
   "cell_type": "code",
   "execution_count": 41,
   "metadata": {},
   "outputs": [],
   "source": [
    "electric_car_obj = ElectricCar(\"Audi\", \"R8 e-tron Model\", 2023, \"92 KWh\", \"450 km\")"
   ]
  },
  {
   "cell_type": "code",
   "execution_count": 42,
   "metadata": {},
   "outputs": [
    {
     "name": "stdout",
     "output_type": "stream",
     "text": [
      "The Audi R8 e-tron Model is an electric car launched in 2023 with electric range 450 km and 92 KWh battery.\n"
     ]
    }
   ],
   "source": [
    "print(electric_car_obj)"
   ]
  },
  {
   "cell_type": "code",
   "execution_count": 43,
   "metadata": {},
   "outputs": [],
   "source": [
    "class Car:\n",
    "    def __init__(self, make, model, year):\n",
    "        self.make = make\n",
    "        self.model = model\n",
    "        self.year = year\n",
    "        \n",
    "    def car_details(self):\n",
    "        return f\"{self.make} {self.model} is officially launched in {self.year}.\"\n",
    "    \n",
    "class ElectricCar(Car):\n",
    "    def __init__(self, make, model, year, battery_size, range):\n",
    "        super().__init__(make, model, year)\n",
    "        self.battery_size = battery_size\n",
    "        self.range = range\n",
    "        \n",
    "    def electric_car_details(self):\n",
    "        return f\"The {self.make} {self.model} is an electric car launched in {self.year} with electric range {self.range} and {self.battery_size} battery.\""
   ]
  },
  {
   "cell_type": "code",
   "execution_count": 44,
   "metadata": {},
   "outputs": [],
   "source": [
    "car_obj = Car(\"Mercedes-Benz\", \"S-Class 320 CDI\", 2008)"
   ]
  },
  {
   "cell_type": "code",
   "execution_count": 45,
   "metadata": {},
   "outputs": [
    {
     "data": {
      "text/plain": [
       "'Mercedes-Benz'"
      ]
     },
     "execution_count": 45,
     "metadata": {},
     "output_type": "execute_result"
    }
   ],
   "source": [
    "car_obj.make"
   ]
  },
  {
   "cell_type": "code",
   "execution_count": 46,
   "metadata": {},
   "outputs": [
    {
     "data": {
      "text/plain": [
       "'S-Class 320 CDI'"
      ]
     },
     "execution_count": 46,
     "metadata": {},
     "output_type": "execute_result"
    }
   ],
   "source": [
    "car_obj.model"
   ]
  },
  {
   "cell_type": "code",
   "execution_count": 47,
   "metadata": {},
   "outputs": [
    {
     "data": {
      "text/plain": [
       "2008"
      ]
     },
     "execution_count": 47,
     "metadata": {},
     "output_type": "execute_result"
    }
   ],
   "source": [
    "car_obj.year"
   ]
  },
  {
   "cell_type": "code",
   "execution_count": 48,
   "metadata": {},
   "outputs": [
    {
     "name": "stdout",
     "output_type": "stream",
     "text": [
      "Mercedes-Benz S-Class 320 CDI is officially launched in 2008.\n"
     ]
    }
   ],
   "source": [
    "print(car_obj.car_details())"
   ]
  },
  {
   "cell_type": "code",
   "execution_count": 49,
   "metadata": {},
   "outputs": [],
   "source": [
    "electric_car_obj = ElectricCar(\"Audi\", \"R8 e-tron Model\", 2023, \"92 KWh\", \"450 km\")"
   ]
  },
  {
   "cell_type": "code",
   "execution_count": 50,
   "metadata": {},
   "outputs": [
    {
     "data": {
      "text/plain": [
       "'Audi'"
      ]
     },
     "execution_count": 50,
     "metadata": {},
     "output_type": "execute_result"
    }
   ],
   "source": [
    "electric_car_obj.make"
   ]
  },
  {
   "cell_type": "code",
   "execution_count": 51,
   "metadata": {},
   "outputs": [
    {
     "data": {
      "text/plain": [
       "'R8 e-tron Model'"
      ]
     },
     "execution_count": 51,
     "metadata": {},
     "output_type": "execute_result"
    }
   ],
   "source": [
    "electric_car_obj.model"
   ]
  },
  {
   "cell_type": "code",
   "execution_count": 52,
   "metadata": {},
   "outputs": [
    {
     "data": {
      "text/plain": [
       "2023"
      ]
     },
     "execution_count": 52,
     "metadata": {},
     "output_type": "execute_result"
    }
   ],
   "source": [
    "electric_car_obj.year"
   ]
  },
  {
   "cell_type": "code",
   "execution_count": 53,
   "metadata": {},
   "outputs": [
    {
     "data": {
      "text/plain": [
       "'92 KWh'"
      ]
     },
     "execution_count": 53,
     "metadata": {},
     "output_type": "execute_result"
    }
   ],
   "source": [
    "electric_car_obj.battery_size"
   ]
  },
  {
   "cell_type": "code",
   "execution_count": 54,
   "metadata": {},
   "outputs": [
    {
     "data": {
      "text/plain": [
       "'450 km'"
      ]
     },
     "execution_count": 54,
     "metadata": {},
     "output_type": "execute_result"
    }
   ],
   "source": [
    "electric_car_obj.range"
   ]
  },
  {
   "cell_type": "code",
   "execution_count": 55,
   "metadata": {},
   "outputs": [
    {
     "name": "stdout",
     "output_type": "stream",
     "text": [
      "Audi R8 e-tron Model is officially launched in 2023.\n"
     ]
    }
   ],
   "source": [
    "print(electric_car_obj.car_details())"
   ]
  },
  {
   "cell_type": "code",
   "execution_count": 56,
   "metadata": {},
   "outputs": [
    {
     "name": "stdout",
     "output_type": "stream",
     "text": [
      "The Audi R8 e-tron Model is an electric car launched in 2023 with electric range 450 km and 92 KWh battery.\n"
     ]
    }
   ],
   "source": [
    "print(electric_car_obj.electric_car_details())"
   ]
  },
  {
   "cell_type": "markdown",
   "metadata": {},
   "source": [
    "Q.6. Create a class called \"Student\" with properties for \"name\" and \"id\". Create a subclass of \"Student\"\n",
    "called \"GraduateStudent\" with additional properties for \"advisor\" and \"research_area\". Create objects of\n",
    "both classes and print out their properties."
   ]
  },
  {
   "cell_type": "code",
   "execution_count": 57,
   "metadata": {},
   "outputs": [],
   "source": [
    "class Student:\n",
    "    def __init__(self, name, id):\n",
    "        self.name = name\n",
    "        self.id = id\n",
    "        \n",
    "    def student_details(self):\n",
    "        return f\"Name : {self.name}, ID : {self.id}\"\n",
    "    \n",
    "class GraduateStudent(Student):\n",
    "    def __init__(self, name, id, advisor, research_area):\n",
    "        super().__init__(name, id)\n",
    "        self.advisor = advisor\n",
    "        self.research_area = research_area\n",
    "        \n",
    "    def grad_student_details(self):\n",
    "        return f\"Name : {self.name}, ID : {self.id}, Advisor : {self.advisor}, Research Area : {self.research_area}\""
   ]
  },
  {
   "cell_type": "code",
   "execution_count": 58,
   "metadata": {},
   "outputs": [],
   "source": [
    "student_obj = Student(\"Sanket\", 12345)"
   ]
  },
  {
   "cell_type": "code",
   "execution_count": 59,
   "metadata": {},
   "outputs": [
    {
     "data": {
      "text/plain": [
       "'Sanket'"
      ]
     },
     "execution_count": 59,
     "metadata": {},
     "output_type": "execute_result"
    }
   ],
   "source": [
    "student_obj.name"
   ]
  },
  {
   "cell_type": "code",
   "execution_count": 60,
   "metadata": {},
   "outputs": [
    {
     "data": {
      "text/plain": [
       "12345"
      ]
     },
     "execution_count": 60,
     "metadata": {},
     "output_type": "execute_result"
    }
   ],
   "source": [
    "student_obj.id"
   ]
  },
  {
   "cell_type": "code",
   "execution_count": 61,
   "metadata": {},
   "outputs": [
    {
     "name": "stdout",
     "output_type": "stream",
     "text": [
      "Name : Sanket, ID : 12345\n"
     ]
    }
   ],
   "source": [
    "print(student_obj.student_details())"
   ]
  },
  {
   "cell_type": "code",
   "execution_count": 62,
   "metadata": {},
   "outputs": [],
   "source": [
    "grad_student = GraduateStudent(\"Akshay\", \"N19511008\", \"Dr. Pujari\", \"Data Science\")"
   ]
  },
  {
   "cell_type": "code",
   "execution_count": 63,
   "metadata": {},
   "outputs": [
    {
     "data": {
      "text/plain": [
       "'Akshay'"
      ]
     },
     "execution_count": 63,
     "metadata": {},
     "output_type": "execute_result"
    }
   ],
   "source": [
    "grad_student.name"
   ]
  },
  {
   "cell_type": "code",
   "execution_count": 64,
   "metadata": {},
   "outputs": [
    {
     "data": {
      "text/plain": [
       "'N19511008'"
      ]
     },
     "execution_count": 64,
     "metadata": {},
     "output_type": "execute_result"
    }
   ],
   "source": [
    "grad_student.id"
   ]
  },
  {
   "cell_type": "code",
   "execution_count": 65,
   "metadata": {},
   "outputs": [
    {
     "data": {
      "text/plain": [
       "'Dr. Pujari'"
      ]
     },
     "execution_count": 65,
     "metadata": {},
     "output_type": "execute_result"
    }
   ],
   "source": [
    "grad_student.advisor"
   ]
  },
  {
   "cell_type": "code",
   "execution_count": 66,
   "metadata": {},
   "outputs": [
    {
     "data": {
      "text/plain": [
       "'Data Science'"
      ]
     },
     "execution_count": 66,
     "metadata": {},
     "output_type": "execute_result"
    }
   ],
   "source": [
    "grad_student.research_area"
   ]
  },
  {
   "cell_type": "code",
   "execution_count": 67,
   "metadata": {},
   "outputs": [
    {
     "name": "stdout",
     "output_type": "stream",
     "text": [
      "Name : Akshay, ID : N19511008\n"
     ]
    }
   ],
   "source": [
    "print(grad_student.student_details())"
   ]
  },
  {
   "cell_type": "code",
   "execution_count": 68,
   "metadata": {},
   "outputs": [
    {
     "name": "stdout",
     "output_type": "stream",
     "text": [
      "Name : Akshay, ID : N19511008, Advisor : Dr. Pujari, Research Area : Data Science\n"
     ]
    }
   ],
   "source": [
    "print(grad_student.grad_student_details())"
   ]
  },
  {
   "cell_type": "code",
   "execution_count": 69,
   "metadata": {},
   "outputs": [],
   "source": [
    "class Student:\n",
    "    def __init__(self, name, id):\n",
    "        self.name = name\n",
    "        self.id = id\n",
    "        \n",
    "    def __str__(self):\n",
    "        return f\"Name : {self.name}, ID : {self.id}\"\n",
    "    \n",
    "class GraduateStudent(Student):\n",
    "    def __init__(self, name, id, advisor, research_area):\n",
    "        super().__init__(name, id)\n",
    "        self.advisor = advisor\n",
    "        self.research_area = research_area\n",
    "        \n",
    "    def __str__(self):\n",
    "        return f\"Name : {self.name}, ID : {self.id}\\nAdvisor : {self.advisor}, Research Area : {self.research_area}\""
   ]
  },
  {
   "cell_type": "code",
   "execution_count": 70,
   "metadata": {},
   "outputs": [],
   "source": [
    "student = Student(\"Sanket\", 12345)"
   ]
  },
  {
   "cell_type": "code",
   "execution_count": 71,
   "metadata": {},
   "outputs": [
    {
     "data": {
      "text/plain": [
       "'Sanket'"
      ]
     },
     "execution_count": 71,
     "metadata": {},
     "output_type": "execute_result"
    }
   ],
   "source": [
    "student.name"
   ]
  },
  {
   "cell_type": "code",
   "execution_count": 72,
   "metadata": {},
   "outputs": [
    {
     "data": {
      "text/plain": [
       "12345"
      ]
     },
     "execution_count": 72,
     "metadata": {},
     "output_type": "execute_result"
    }
   ],
   "source": [
    "student.id"
   ]
  },
  {
   "cell_type": "code",
   "execution_count": 73,
   "metadata": {},
   "outputs": [
    {
     "name": "stdout",
     "output_type": "stream",
     "text": [
      "Name : Sanket, ID : 12345\n"
     ]
    }
   ],
   "source": [
    "print(student)"
   ]
  },
  {
   "cell_type": "code",
   "execution_count": 74,
   "metadata": {},
   "outputs": [],
   "source": [
    "graduate_student = GraduateStudent(\"Akshay\", \"N19511008\", \"Dr. Pujari\", \"Data Science\")"
   ]
  },
  {
   "cell_type": "code",
   "execution_count": 75,
   "metadata": {},
   "outputs": [
    {
     "data": {
      "text/plain": [
       "'Akshay'"
      ]
     },
     "execution_count": 75,
     "metadata": {},
     "output_type": "execute_result"
    }
   ],
   "source": [
    "graduate_student.name"
   ]
  },
  {
   "cell_type": "code",
   "execution_count": 76,
   "metadata": {},
   "outputs": [
    {
     "data": {
      "text/plain": [
       "'N19511008'"
      ]
     },
     "execution_count": 76,
     "metadata": {},
     "output_type": "execute_result"
    }
   ],
   "source": [
    "graduate_student.id"
   ]
  },
  {
   "cell_type": "code",
   "execution_count": 77,
   "metadata": {},
   "outputs": [
    {
     "data": {
      "text/plain": [
       "'Dr. Pujari'"
      ]
     },
     "execution_count": 77,
     "metadata": {},
     "output_type": "execute_result"
    }
   ],
   "source": [
    "graduate_student.advisor"
   ]
  },
  {
   "cell_type": "code",
   "execution_count": 78,
   "metadata": {},
   "outputs": [
    {
     "data": {
      "text/plain": [
       "'Data Science'"
      ]
     },
     "execution_count": 78,
     "metadata": {},
     "output_type": "execute_result"
    }
   ],
   "source": [
    "graduate_student.research_area"
   ]
  },
  {
   "cell_type": "code",
   "execution_count": 79,
   "metadata": {},
   "outputs": [
    {
     "name": "stdout",
     "output_type": "stream",
     "text": [
      "Name : Akshay, ID : N19511008\n",
      "Advisor : Dr. Pujari, Research Area : Data Science\n"
     ]
    }
   ],
   "source": [
    "print(graduate_student)"
   ]
  },
  {
   "cell_type": "markdown",
   "metadata": {},
   "source": [
    "Q.7. Create a class called \"Shape\" with methods to calculate the area and perimeter of the shape. Create\n",
    "subclasses of \"Shape\" for \"Rectangle\", \"Circle\", and \"Triangle\" with their own methods for calculating area\n",
    "and perimeter. Create objects of each class and print out their area and perimeter."
   ]
  },
  {
   "cell_type": "code",
   "execution_count": 80,
   "metadata": {},
   "outputs": [],
   "source": [
    "import math\n",
    "import abc"
   ]
  },
  {
   "cell_type": "code",
   "execution_count": 81,
   "metadata": {},
   "outputs": [],
   "source": [
    "class Shape:\n",
    "    \n",
    "    @abc.abstractmethod\n",
    "    def calculate_perimeter(self):\n",
    "        pass\n",
    "    \n",
    "    @abc.abstractmethod\n",
    "    def calculate_area(self):\n",
    "        pass"
   ]
  },
  {
   "cell_type": "code",
   "execution_count": 82,
   "metadata": {},
   "outputs": [],
   "source": [
    "class Rectangle(Shape):\n",
    "    def __init__(self, height, width):\n",
    "        self.height = height\n",
    "        self.width = width\n",
    "        \n",
    "    def calculate_perimeter(self):\n",
    "        perimeter = (2 * self.height) + (2 * self.width)\n",
    "        return perimeter\n",
    "    \n",
    "    def calculate_area(self):\n",
    "        area = self.height * self.width\n",
    "        return area\n",
    "    \n",
    "class Circle(Shape):\n",
    "    def __init__(self, radius):\n",
    "        self.radius = radius\n",
    "        \n",
    "    def calculate_perimeter(self):\n",
    "        perimeter = 2 * math.pi * self.radius\n",
    "        return perimeter\n",
    "    \n",
    "    def calculate_area(self):\n",
    "        area = math.pi * (self.radius ** 2)\n",
    "        return area\n",
    "    \n",
    "class Triangle(Shape):\n",
    "    def __init__(self, side1, side2, side3):\n",
    "        self.side1 = side1\n",
    "        self.side2 = side2\n",
    "        self.side3 = side3\n",
    "        \n",
    "    def calculate_perimeter(self):\n",
    "        perimeter = self.side1 + self.side2 + self.side3\n",
    "        return perimeter\n",
    "    \n",
    "    def calculate_area(self):\n",
    "        s = (self.side1 + self.side2 + self.side3)/2\n",
    "        area = math.sqrt(s * (s - self.side1) * (s - self.side2) * (s - self.side3))\n",
    "        return area"
   ]
  },
  {
   "cell_type": "code",
   "execution_count": 83,
   "metadata": {},
   "outputs": [],
   "source": [
    "rectangle = Rectangle(5, 4)"
   ]
  },
  {
   "cell_type": "code",
   "execution_count": 84,
   "metadata": {},
   "outputs": [
    {
     "data": {
      "text/plain": [
       "5"
      ]
     },
     "execution_count": 84,
     "metadata": {},
     "output_type": "execute_result"
    }
   ],
   "source": [
    "rectangle.height"
   ]
  },
  {
   "cell_type": "code",
   "execution_count": 85,
   "metadata": {},
   "outputs": [
    {
     "data": {
      "text/plain": [
       "4"
      ]
     },
     "execution_count": 85,
     "metadata": {},
     "output_type": "execute_result"
    }
   ],
   "source": [
    "rectangle.width"
   ]
  },
  {
   "cell_type": "code",
   "execution_count": 86,
   "metadata": {},
   "outputs": [
    {
     "name": "stdout",
     "output_type": "stream",
     "text": [
      "Rectangle Perimeter: 18\n"
     ]
    }
   ],
   "source": [
    "print(\"Rectangle Perimeter:\", rectangle.calculate_perimeter())"
   ]
  },
  {
   "cell_type": "code",
   "execution_count": 87,
   "metadata": {},
   "outputs": [
    {
     "name": "stdout",
     "output_type": "stream",
     "text": [
      "Rectangle Area: 20\n"
     ]
    }
   ],
   "source": [
    "print(\"Rectangle Area:\", rectangle.calculate_area())"
   ]
  },
  {
   "cell_type": "code",
   "execution_count": 88,
   "metadata": {},
   "outputs": [],
   "source": [
    "circle = Circle(3)"
   ]
  },
  {
   "cell_type": "code",
   "execution_count": 89,
   "metadata": {},
   "outputs": [
    {
     "data": {
      "text/plain": [
       "3"
      ]
     },
     "execution_count": 89,
     "metadata": {},
     "output_type": "execute_result"
    }
   ],
   "source": [
    "circle.radius"
   ]
  },
  {
   "cell_type": "code",
   "execution_count": 90,
   "metadata": {},
   "outputs": [
    {
     "name": "stdout",
     "output_type": "stream",
     "text": [
      "Circle Perimeter: 18.84955592153876\n"
     ]
    }
   ],
   "source": [
    "print(\"Circle Perimeter:\", circle.calculate_perimeter())"
   ]
  },
  {
   "cell_type": "code",
   "execution_count": 91,
   "metadata": {},
   "outputs": [
    {
     "name": "stdout",
     "output_type": "stream",
     "text": [
      "Circle Area: 28.274333882308138\n"
     ]
    }
   ],
   "source": [
    "print(\"Circle Area:\", circle.calculate_area())"
   ]
  },
  {
   "cell_type": "code",
   "execution_count": 92,
   "metadata": {},
   "outputs": [],
   "source": [
    "triangle = Triangle(3, 4, 5)"
   ]
  },
  {
   "cell_type": "code",
   "execution_count": 93,
   "metadata": {},
   "outputs": [
    {
     "data": {
      "text/plain": [
       "3"
      ]
     },
     "execution_count": 93,
     "metadata": {},
     "output_type": "execute_result"
    }
   ],
   "source": [
    "triangle.side1"
   ]
  },
  {
   "cell_type": "code",
   "execution_count": 94,
   "metadata": {},
   "outputs": [
    {
     "data": {
      "text/plain": [
       "4"
      ]
     },
     "execution_count": 94,
     "metadata": {},
     "output_type": "execute_result"
    }
   ],
   "source": [
    "triangle.side2"
   ]
  },
  {
   "cell_type": "code",
   "execution_count": 95,
   "metadata": {},
   "outputs": [
    {
     "data": {
      "text/plain": [
       "5"
      ]
     },
     "execution_count": 95,
     "metadata": {},
     "output_type": "execute_result"
    }
   ],
   "source": [
    "triangle.side3"
   ]
  },
  {
   "cell_type": "code",
   "execution_count": 96,
   "metadata": {},
   "outputs": [
    {
     "name": "stdout",
     "output_type": "stream",
     "text": [
      "Triangle Perimeter: 12\n"
     ]
    }
   ],
   "source": [
    "print(\"Triangle Perimeter:\", triangle.calculate_perimeter())"
   ]
  },
  {
   "cell_type": "code",
   "execution_count": 97,
   "metadata": {},
   "outputs": [
    {
     "name": "stdout",
     "output_type": "stream",
     "text": [
      "Triangle Area: 6.0\n"
     ]
    }
   ],
   "source": [
    "print(\"Triangle Area:\", triangle.calculate_area())"
   ]
  },
  {
   "cell_type": "code",
   "execution_count": 98,
   "metadata": {},
   "outputs": [],
   "source": [
    "import math\n",
    "\n",
    "class Shape:\n",
    "    def calculate_area(self):\n",
    "        pass\n",
    "\n",
    "    def calculate_perimeter(self):\n",
    "        pass\n",
    "\n",
    "class Rectangle(Shape):\n",
    "    def __init__(self, width, height):\n",
    "        self.width = width\n",
    "        self.height = height\n",
    "\n",
    "    def calculate_area(self):\n",
    "        return self.width * self.height\n",
    "\n",
    "    def calculate_perimeter(self):\n",
    "        return 2 * (self.width + self.height)\n",
    "\n",
    "class Circle(Shape):\n",
    "    def __init__(self, radius):\n",
    "        self.radius = radius\n",
    "\n",
    "    def calculate_area(self):\n",
    "        return math.pi * self.radius**2\n",
    "\n",
    "    def calculate_perimeter(self):\n",
    "        return 2 * math.pi * self.radius\n",
    "\n",
    "class Triangle(Shape):\n",
    "    def __init__(self, side1, side2, side3):\n",
    "        self.side1 = side1\n",
    "        self.side2 = side2\n",
    "        self.side3 = side3\n",
    "\n",
    "    def calculate_area(self):\n",
    "        s = (self.side1 + self.side2 + self.side3) / 2\n",
    "        return math.sqrt(s * (s - self.side1) * (s - self.side2) * (s - self.side3))\n",
    "\n",
    "    def calculate_perimeter(self):\n",
    "        return self.side1 + self.side2 + self.side3"
   ]
  },
  {
   "cell_type": "code",
   "execution_count": 99,
   "metadata": {},
   "outputs": [],
   "source": [
    "# Create objects of each class\n",
    "rectangle = Rectangle(4, 5)\n",
    "circle = Circle(3)\n",
    "triangle = Triangle(3, 4, 5)"
   ]
  },
  {
   "cell_type": "code",
   "execution_count": 100,
   "metadata": {},
   "outputs": [
    {
     "name": "stdout",
     "output_type": "stream",
     "text": [
      "Rectangle Area: 20\n",
      "Rectangle Perimeter: 18\n",
      "Circle Area: 28.274333882308138\n",
      "Circle Perimeter: 18.84955592153876\n",
      "Triangle Area: 6.0\n",
      "Triangle Perimeter: 12\n"
     ]
    }
   ],
   "source": [
    "# Calculate and print the area and perimeter of each shape\n",
    "print(\"Rectangle Area:\", rectangle.calculate_area())\n",
    "print(\"Rectangle Perimeter:\", rectangle.calculate_perimeter())\n",
    "\n",
    "print(\"Circle Area:\", circle.calculate_area())\n",
    "print(\"Circle Perimeter:\", circle.calculate_perimeter())\n",
    "\n",
    "print(\"Triangle Area:\", triangle.calculate_area())\n",
    "print(\"Triangle Perimeter:\", triangle.calculate_perimeter())"
   ]
  },
  {
   "cell_type": "markdown",
   "metadata": {},
   "source": [
    "Q.8. Create a class called \"Employee\" with properties for \"name\", \"id\", and \"salary\". Add methods to give\n",
    "the employee a raise and to calculate their annual salary. Create objects of this class and test out the\n",
    "methods."
   ]
  },
  {
   "cell_type": "code",
   "execution_count": 101,
   "metadata": {},
   "outputs": [],
   "source": [
    "class Employee:\n",
    "    def __init__(self, name, id, salary):\n",
    "        self.name = name\n",
    "        self.id = id\n",
    "        self.salary = salary\n",
    "        \n",
    "    def salary_raise(self, raise_percent):\n",
    "        self.salary += (self.salary * raise_percent/100)\n",
    "        return f\"After 12 months New Salary of {self.name} is {self.salary}.\"\n",
    "    \n",
    "    def calculate_annual_salary(self):\n",
    "        annual_salary = self.salary * 12\n",
    "        return f\"Sanket's Annual Salary: {annual_salary}\""
   ]
  },
  {
   "cell_type": "code",
   "execution_count": 102,
   "metadata": {},
   "outputs": [],
   "source": [
    "employee = Employee(\"Sanket\", 12345, 50000)"
   ]
  },
  {
   "cell_type": "code",
   "execution_count": 103,
   "metadata": {},
   "outputs": [
    {
     "data": {
      "text/plain": [
       "'Sanket'"
      ]
     },
     "execution_count": 103,
     "metadata": {},
     "output_type": "execute_result"
    }
   ],
   "source": [
    "employee.name"
   ]
  },
  {
   "cell_type": "code",
   "execution_count": 104,
   "metadata": {},
   "outputs": [
    {
     "data": {
      "text/plain": [
       "12345"
      ]
     },
     "execution_count": 104,
     "metadata": {},
     "output_type": "execute_result"
    }
   ],
   "source": [
    "employee.id"
   ]
  },
  {
   "cell_type": "code",
   "execution_count": 105,
   "metadata": {},
   "outputs": [
    {
     "data": {
      "text/plain": [
       "50000"
      ]
     },
     "execution_count": 105,
     "metadata": {},
     "output_type": "execute_result"
    }
   ],
   "source": [
    "employee.salary"
   ]
  },
  {
   "cell_type": "code",
   "execution_count": 106,
   "metadata": {},
   "outputs": [
    {
     "name": "stdout",
     "output_type": "stream",
     "text": [
      "Sanket's Annual Salary: 600000\n"
     ]
    }
   ],
   "source": [
    "print(employee.calculate_annual_salary())"
   ]
  },
  {
   "cell_type": "code",
   "execution_count": 107,
   "metadata": {},
   "outputs": [
    {
     "name": "stdout",
     "output_type": "stream",
     "text": [
      "After 12 months New Salary of Sanket is 55000.0.\n"
     ]
    }
   ],
   "source": [
    "print(employee.salary_raise(10))"
   ]
  },
  {
   "cell_type": "code",
   "execution_count": 108,
   "metadata": {},
   "outputs": [
    {
     "name": "stdout",
     "output_type": "stream",
     "text": [
      "Sanket's Annual Salary: 660000.0\n"
     ]
    }
   ],
   "source": [
    "print(employee.calculate_annual_salary())"
   ]
  },
  {
   "cell_type": "code",
   "execution_count": 109,
   "metadata": {},
   "outputs": [],
   "source": [
    "class Employee:\n",
    "    def __init__(self, name, id, salary):\n",
    "        self.name = name\n",
    "        self.id = id\n",
    "        self.salary = salary\n",
    "\n",
    "    def give_raise(self, amount):\n",
    "        self.salary += amount\n",
    "\n",
    "    def calculate_annual_salary(self):\n",
    "        return self.salary * 12"
   ]
  },
  {
   "cell_type": "code",
   "execution_count": 110,
   "metadata": {},
   "outputs": [],
   "source": [
    "# Create objects of the Employee class\n",
    "employee1 = Employee(\"Alice\", 101, 50000)\n",
    "employee2 = Employee(\"Bob\", 102, 60000)"
   ]
  },
  {
   "cell_type": "code",
   "execution_count": 111,
   "metadata": {},
   "outputs": [],
   "source": [
    "# Test the give_raise method\n",
    "employee1.give_raise(5000)\n",
    "employee2.give_raise(6000)"
   ]
  },
  {
   "cell_type": "code",
   "execution_count": 112,
   "metadata": {},
   "outputs": [
    {
     "name": "stdout",
     "output_type": "stream",
     "text": [
      "Alice's Annual Salary: $660000\n",
      "Bob's Annual Salary: $792000\n"
     ]
    }
   ],
   "source": [
    "# Calculate and print the annual salary of each employee\n",
    "annual_salary1 = employee1.calculate_annual_salary()\n",
    "annual_salary2 = employee2.calculate_annual_salary()\n",
    "\n",
    "print(f\"{employee1.name}'s Annual Salary: ${annual_salary1}\")\n",
    "print(f\"{employee2.name}'s Annual Salary: ${annual_salary2}\")"
   ]
  },
  {
   "cell_type": "markdown",
   "metadata": {},
   "source": [
    "Q.9. Create a class called \"Book\" with properties for \"title\", \"author\", and \"publisher\". Create a subclass of\n",
    "\"Book\" called \"Ebook\" with additional properties for \"file_format\" and \"file_size\". Create objects of both\n",
    "classes and print out their properties."
   ]
  },
  {
   "cell_type": "code",
   "execution_count": 113,
   "metadata": {},
   "outputs": [],
   "source": [
    "class Book:\n",
    "    def __init__(self, title, author, publisher):\n",
    "        self.title = title\n",
    "        self.author = author\n",
    "        self.publisher = publisher\n",
    "        \n",
    "    def book_details(self):\n",
    "        return f\"Book Title : {self.title}\\nBook Author : {self.author}\\nBook Publisher : {self.publisher}\"\n",
    "    \n",
    "class Ebook(Book):\n",
    "    def __init__(self, title, author, publisher, file_format, file_size):\n",
    "        super().__init__(title, author, publisher)\n",
    "        self.file_format = file_format\n",
    "        self.file_size = file_size\n",
    "        \n",
    "    def ebook_details(self):\n",
    "        return f\"Ebook Title : {self.title}\\nEbook Author : {self.author}\\nEbook Publisher : {self.publisher}\\nEbook File Format : {self.file_format}\\nEbook File Size : {self.file_size}\""
   ]
  },
  {
   "cell_type": "code",
   "execution_count": 114,
   "metadata": {},
   "outputs": [],
   "source": [
    "book = Book(\"Wings Of Fire\", \"A P J Abdul Kalam & Arun Tiwari\", \"Universities Press\")"
   ]
  },
  {
   "cell_type": "code",
   "execution_count": 115,
   "metadata": {},
   "outputs": [
    {
     "data": {
      "text/plain": [
       "'Wings Of Fire'"
      ]
     },
     "execution_count": 115,
     "metadata": {},
     "output_type": "execute_result"
    }
   ],
   "source": [
    "book.title"
   ]
  },
  {
   "cell_type": "code",
   "execution_count": 116,
   "metadata": {},
   "outputs": [
    {
     "data": {
      "text/plain": [
       "'A P J Abdul Kalam & Arun Tiwari'"
      ]
     },
     "execution_count": 116,
     "metadata": {},
     "output_type": "execute_result"
    }
   ],
   "source": [
    "book.author"
   ]
  },
  {
   "cell_type": "code",
   "execution_count": 117,
   "metadata": {},
   "outputs": [
    {
     "data": {
      "text/plain": [
       "'Universities Press'"
      ]
     },
     "execution_count": 117,
     "metadata": {},
     "output_type": "execute_result"
    }
   ],
   "source": [
    "book.publisher"
   ]
  },
  {
   "cell_type": "code",
   "execution_count": 118,
   "metadata": {},
   "outputs": [
    {
     "name": "stdout",
     "output_type": "stream",
     "text": [
      "Book Title : Wings Of Fire\n",
      "Book Author : A P J Abdul Kalam & Arun Tiwari\n",
      "Book Publisher : Universities Press\n"
     ]
    }
   ],
   "source": [
    "print(book.book_details())"
   ]
  },
  {
   "cell_type": "code",
   "execution_count": 119,
   "metadata": {},
   "outputs": [],
   "source": [
    "ebook = Ebook(\"Mindset\", \"Dr. Carol S. Dweck\", \"Random House Publishing Group\", \"PDF\", \"20.8 MB\")"
   ]
  },
  {
   "cell_type": "code",
   "execution_count": 120,
   "metadata": {},
   "outputs": [
    {
     "data": {
      "text/plain": [
       "'Mindset'"
      ]
     },
     "execution_count": 120,
     "metadata": {},
     "output_type": "execute_result"
    }
   ],
   "source": [
    "ebook.title"
   ]
  },
  {
   "cell_type": "code",
   "execution_count": 121,
   "metadata": {},
   "outputs": [
    {
     "data": {
      "text/plain": [
       "'Dr. Carol S. Dweck'"
      ]
     },
     "execution_count": 121,
     "metadata": {},
     "output_type": "execute_result"
    }
   ],
   "source": [
    "ebook.author"
   ]
  },
  {
   "cell_type": "code",
   "execution_count": 122,
   "metadata": {},
   "outputs": [
    {
     "data": {
      "text/plain": [
       "'Random House Publishing Group'"
      ]
     },
     "execution_count": 122,
     "metadata": {},
     "output_type": "execute_result"
    }
   ],
   "source": [
    "ebook.publisher"
   ]
  },
  {
   "cell_type": "code",
   "execution_count": 123,
   "metadata": {},
   "outputs": [
    {
     "data": {
      "text/plain": [
       "'PDF'"
      ]
     },
     "execution_count": 123,
     "metadata": {},
     "output_type": "execute_result"
    }
   ],
   "source": [
    "ebook.file_format"
   ]
  },
  {
   "cell_type": "code",
   "execution_count": 124,
   "metadata": {},
   "outputs": [
    {
     "data": {
      "text/plain": [
       "'20.8 MB'"
      ]
     },
     "execution_count": 124,
     "metadata": {},
     "output_type": "execute_result"
    }
   ],
   "source": [
    "ebook.file_size"
   ]
  },
  {
   "cell_type": "code",
   "execution_count": 125,
   "metadata": {},
   "outputs": [
    {
     "name": "stdout",
     "output_type": "stream",
     "text": [
      "Book Title : Mindset\n",
      "Book Author : Dr. Carol S. Dweck\n",
      "Book Publisher : Random House Publishing Group\n"
     ]
    }
   ],
   "source": [
    "print(ebook.book_details())"
   ]
  },
  {
   "cell_type": "code",
   "execution_count": 126,
   "metadata": {},
   "outputs": [
    {
     "name": "stdout",
     "output_type": "stream",
     "text": [
      "Ebook Title : Mindset\n",
      "Ebook Author : Dr. Carol S. Dweck\n",
      "Ebook Publisher : Random House Publishing Group\n",
      "Ebook File Format : PDF\n",
      "Ebook File Size : 20.8 MB\n"
     ]
    }
   ],
   "source": [
    "print(ebook.ebook_details())"
   ]
  },
  {
   "cell_type": "code",
   "execution_count": 127,
   "metadata": {},
   "outputs": [],
   "source": [
    "class Book:\n",
    "    def __init__(self, title, author, publisher):\n",
    "        self.title = title\n",
    "        self.author = author\n",
    "        self.publisher = publisher\n",
    "\n",
    "    def __str__(self):\n",
    "        return f\"Title: {self.title}\\nAuthor: {self.author}\\nPublisher: {self.publisher}\"\n",
    "\n",
    "class Ebook(Book):\n",
    "    def __init__(self, title, author, publisher, file_format, file_size):\n",
    "        super().__init__(title, author, publisher)\n",
    "        self.file_format = file_format\n",
    "        self.file_size = file_size\n",
    "\n",
    "    def __str__(self):\n",
    "        book_info = super().__str__()\n",
    "        return f\"{book_info}\\nFile Format: {self.file_format}\\nFile Size: {self.file_size}\""
   ]
  },
  {
   "cell_type": "code",
   "execution_count": 128,
   "metadata": {},
   "outputs": [],
   "source": [
    "# Create an instance of the Book class\n",
    "paper_book = Book(\"The Great Gatsby\", \"F. Scott Fitzgerald\", \"Scribner\")"
   ]
  },
  {
   "cell_type": "code",
   "execution_count": 129,
   "metadata": {},
   "outputs": [],
   "source": [
    "# Create an instance of the Ebook subclass\n",
    "ebook = Ebook(\"Python Crash Course\", \"Eric Matthes\", \"No Starch Press\", \"PDF\", \"5.2 MB\")"
   ]
  },
  {
   "cell_type": "code",
   "execution_count": 130,
   "metadata": {},
   "outputs": [
    {
     "name": "stdout",
     "output_type": "stream",
     "text": [
      "Book:\n",
      "Title: The Great Gatsby\n",
      "Author: F. Scott Fitzgerald\n",
      "Publisher: Scribner\n",
      "\n",
      "Ebook:\n",
      "Title: Python Crash Course\n",
      "Author: Eric Matthes\n",
      "Publisher: No Starch Press\n",
      "File Format: PDF\n",
      "File Size: 5.2 MB\n"
     ]
    }
   ],
   "source": [
    "# Print information about the book and ebook\n",
    "print(\"Book:\")\n",
    "print(paper_book)\n",
    "print(\"\\nEbook:\")\n",
    "print(ebook)"
   ]
  },
  {
   "cell_type": "markdown",
   "metadata": {},
   "source": [
    "Q.10. Create a class called \"Bank\" with properties for \"name\" and \"accounts\". Add methods to create new\n",
    "accounts, deposit and withdraw money from accounts, and to calculate the total balance of all accounts.\n",
    "Create an object of this class and test out the methods."
   ]
  },
  {
   "cell_type": "code",
   "execution_count": 131,
   "metadata": {},
   "outputs": [],
   "source": [
    "class Bank:\n",
    "    def __init__(self, name):\n",
    "        self.name = name\n",
    "        self.accounts = {}\n",
    "\n",
    "    def create_account(self, account_number, initial_balance=0):\n",
    "        if account_number not in self.accounts:\n",
    "            self.accounts[account_number] = initial_balance\n",
    "            return f\"Account {account_number} created with an initial balance of ${initial_balance}\"\n",
    "        else:\n",
    "            return f\"Account {account_number} already exists.\"\n",
    "\n",
    "    def deposit(self, account_number, amount):\n",
    "        if account_number in self.accounts:\n",
    "            self.accounts[account_number] += amount\n",
    "            return f\"Deposited ${amount} into account {account_number}. New balance: ${self.accounts[account_number]}\"\n",
    "        else:\n",
    "            return f\"Account {account_number} does not exist.\"\n",
    "\n",
    "    def withdraw(self, account_number, amount):\n",
    "        if account_number in self.accounts:\n",
    "            if amount <= self.accounts[account_number]:\n",
    "                self.accounts[account_number] -= amount\n",
    "                return f\"Withdrew ${amount} from account {account_number}. New balance: ${self.accounts[account_number]}\"\n",
    "            else:\n",
    "                return f\"Insufficient funds in account {account_number}.\"\n",
    "        else:\n",
    "            return f\"Account {account_number} does not exist.\"\n",
    "\n",
    "    def total_balance(self):\n",
    "        return sum(self.accounts.values())"
   ]
  },
  {
   "cell_type": "code",
   "execution_count": 132,
   "metadata": {},
   "outputs": [],
   "source": [
    "# Create an object of the Bank class\n",
    "my_bank = Bank(\"MyBank\")"
   ]
  },
  {
   "cell_type": "code",
   "execution_count": 133,
   "metadata": {},
   "outputs": [
    {
     "data": {
      "text/plain": [
       "'MyBank'"
      ]
     },
     "execution_count": 133,
     "metadata": {},
     "output_type": "execute_result"
    }
   ],
   "source": [
    "my_bank.name"
   ]
  },
  {
   "cell_type": "code",
   "execution_count": 134,
   "metadata": {},
   "outputs": [
    {
     "data": {
      "text/plain": [
       "{}"
      ]
     },
     "execution_count": 134,
     "metadata": {},
     "output_type": "execute_result"
    }
   ],
   "source": [
    "my_bank.accounts"
   ]
  },
  {
   "cell_type": "code",
   "execution_count": 135,
   "metadata": {},
   "outputs": [
    {
     "name": "stdout",
     "output_type": "stream",
     "text": [
      "Account 12345 created with an initial balance of $1000\n",
      "Account 67890 created with an initial balance of $500\n"
     ]
    }
   ],
   "source": [
    "# Test the methods\n",
    "print(my_bank.create_account(\"12345\", 1000))\n",
    "print(my_bank.create_account(\"67890\", 500))"
   ]
  },
  {
   "cell_type": "code",
   "execution_count": 136,
   "metadata": {},
   "outputs": [
    {
     "data": {
      "text/plain": [
       "{'12345': 1000, '67890': 500}"
      ]
     },
     "execution_count": 136,
     "metadata": {},
     "output_type": "execute_result"
    }
   ],
   "source": [
    "my_bank.accounts"
   ]
  },
  {
   "cell_type": "code",
   "execution_count": 137,
   "metadata": {},
   "outputs": [
    {
     "name": "stdout",
     "output_type": "stream",
     "text": [
      "Deposited $500 into account 12345. New balance: $1500\n",
      "Withdrew $200 from account 67890. New balance: $300\n"
     ]
    }
   ],
   "source": [
    "print(my_bank.deposit(\"12345\", 500))\n",
    "print(my_bank.withdraw(\"67890\", 200))"
   ]
  },
  {
   "cell_type": "code",
   "execution_count": 138,
   "metadata": {},
   "outputs": [
    {
     "data": {
      "text/plain": [
       "{'12345': 1500, '67890': 300}"
      ]
     },
     "execution_count": 138,
     "metadata": {},
     "output_type": "execute_result"
    }
   ],
   "source": [
    "my_bank.accounts"
   ]
  },
  {
   "cell_type": "code",
   "execution_count": 139,
   "metadata": {},
   "outputs": [
    {
     "name": "stdout",
     "output_type": "stream",
     "text": [
      "Account 99999 does not exist.\n",
      "Insufficient funds in account 12345.\n"
     ]
    }
   ],
   "source": [
    "print(my_bank.deposit(\"99999\", 100))  # Account does not exist\n",
    "print(my_bank.withdraw(\"12345\", 2000))  # Insufficient funds"
   ]
  },
  {
   "cell_type": "code",
   "execution_count": 140,
   "metadata": {},
   "outputs": [
    {
     "name": "stdout",
     "output_type": "stream",
     "text": [
      "Total balance in MyBank: $1800\n"
     ]
    }
   ],
   "source": [
    "print(f\"Total balance in {my_bank.name}: ${my_bank.total_balance()}\")"
   ]
  },
  {
   "cell_type": "code",
   "execution_count": 141,
   "metadata": {},
   "outputs": [],
   "source": [
    "class Bank:\n",
    "    def __init__(self, name, accounts):\n",
    "        self.name = name\n",
    "        self.accounts = accounts\n",
    "        \n",
    "    def create_account(self, account_number, initial_amount):\n",
    "        if account_number not in self.accounts:\n",
    "            self.accounts[account_number] = initial_amount\n",
    "            return f\"Account {account_number} created with an initial balance of ${initial_amount}\"\n",
    "        else:\n",
    "            return f\"Account {account_number} does not exist.\"\n",
    "        \n",
    "    def deposit_amount(self, account_number):\n",
    "        if account_number in self.accounts:\n",
    "            deposit = float(input(\"Enter the amount to be deposited in given account : \"))\n",
    "            self.accounts[account_number] += deposit\n",
    "            return f\"Deposited ${deposit} into account {account_number}. New balance: ${self.accounts[account_number]}\"\n",
    "        else:\n",
    "            return f\"Account {account_number} does not exist.\"\n",
    "        \n",
    "    def withdraw_amount(self, account_number):\n",
    "        if account_number in self.accounts:\n",
    "            withdraw = float(input(\"Enter the amount to be withdrawn from given account : \"))\n",
    "            if withdraw <= self.accounts[account_number]:\n",
    "                self.accounts[account_number] -= withdraw\n",
    "                return f\"Withdrew ${withdraw} from account {account_number}. New balance : ${self.accounts[account_number]}\"\n",
    "            else:\n",
    "                return f\"Insufficient funds in account {account_number}.\"\n",
    "        else:\n",
    "            return f\"Account {account_number} does not exist.\"\n",
    "        \n",
    "    def total_balance(self):\n",
    "        total = sum(self.accounts.values())\n",
    "        return f\"Total balance in {self.name} in all accounts : {total}\""
   ]
  },
  {
   "cell_type": "code",
   "execution_count": 142,
   "metadata": {},
   "outputs": [],
   "source": [
    "my_bank = Bank(\"CBI\", {})"
   ]
  },
  {
   "cell_type": "code",
   "execution_count": 143,
   "metadata": {},
   "outputs": [
    {
     "data": {
      "text/plain": [
       "'CBI'"
      ]
     },
     "execution_count": 143,
     "metadata": {},
     "output_type": "execute_result"
    }
   ],
   "source": [
    "my_bank.name"
   ]
  },
  {
   "cell_type": "code",
   "execution_count": 144,
   "metadata": {},
   "outputs": [
    {
     "data": {
      "text/plain": [
       "{}"
      ]
     },
     "execution_count": 144,
     "metadata": {},
     "output_type": "execute_result"
    }
   ],
   "source": [
    "my_bank.accounts"
   ]
  },
  {
   "cell_type": "code",
   "execution_count": 145,
   "metadata": {},
   "outputs": [
    {
     "name": "stdout",
     "output_type": "stream",
     "text": [
      "Account CBI82540 created with an initial balance of $2000\n"
     ]
    }
   ],
   "source": [
    "print(my_bank.create_account(\"CBI82540\", 2000))"
   ]
  },
  {
   "cell_type": "code",
   "execution_count": 146,
   "metadata": {},
   "outputs": [
    {
     "name": "stdout",
     "output_type": "stream",
     "text": [
      "Account CBI82640 created with an initial balance of $2500\n"
     ]
    }
   ],
   "source": [
    "print(my_bank.create_account(\"CBI82640\", 2500))"
   ]
  },
  {
   "cell_type": "code",
   "execution_count": 147,
   "metadata": {},
   "outputs": [
    {
     "data": {
      "text/plain": [
       "{'CBI82540': 2000, 'CBI82640': 2500}"
      ]
     },
     "execution_count": 147,
     "metadata": {},
     "output_type": "execute_result"
    }
   ],
   "source": [
    "my_bank.accounts"
   ]
  },
  {
   "cell_type": "code",
   "execution_count": 148,
   "metadata": {},
   "outputs": [
    {
     "name": "stdout",
     "output_type": "stream",
     "text": [
      "Account CBI44480 does not exist.\n"
     ]
    }
   ],
   "source": [
    "print(my_bank.deposit_amount(\"CBI44480\"))"
   ]
  },
  {
   "cell_type": "code",
   "execution_count": 149,
   "metadata": {},
   "outputs": [
    {
     "name": "stdout",
     "output_type": "stream",
     "text": [
      "Enter the amount to be deposited in given account : 1000\n",
      "Deposited $1000.0 into account CBI82540. New balance: $3000.0\n"
     ]
    }
   ],
   "source": [
    "print(my_bank.deposit_amount(\"CBI82540\"))"
   ]
  },
  {
   "cell_type": "code",
   "execution_count": 150,
   "metadata": {},
   "outputs": [
    {
     "name": "stdout",
     "output_type": "stream",
     "text": [
      "Enter the amount to be deposited in given account : 2500\n",
      "Deposited $2500.0 into account CBI82640. New balance: $5000.0\n"
     ]
    }
   ],
   "source": [
    "print(my_bank.deposit_amount(\"CBI82640\"))"
   ]
  },
  {
   "cell_type": "code",
   "execution_count": 151,
   "metadata": {},
   "outputs": [
    {
     "name": "stdout",
     "output_type": "stream",
     "text": [
      "Account CBI44480 does not exist.\n"
     ]
    }
   ],
   "source": [
    "print(my_bank.withdraw_amount(\"CBI44480\"))"
   ]
  },
  {
   "cell_type": "code",
   "execution_count": 152,
   "metadata": {},
   "outputs": [
    {
     "name": "stdout",
     "output_type": "stream",
     "text": [
      "Enter the amount to be withdrawn from given account : 5000\n",
      "Insufficient funds in account CBI82540.\n"
     ]
    }
   ],
   "source": [
    "print(my_bank.withdraw_amount(\"CBI82540\"))"
   ]
  },
  {
   "cell_type": "code",
   "execution_count": 153,
   "metadata": {},
   "outputs": [
    {
     "name": "stdout",
     "output_type": "stream",
     "text": [
      "Enter the amount to be withdrawn from given account : 1000\n",
      "Withdrew $1000.0 from account CBI82640. New balance : $4000.0\n"
     ]
    }
   ],
   "source": [
    "print(my_bank.withdraw_amount(\"CBI82640\"))"
   ]
  },
  {
   "cell_type": "code",
   "execution_count": 154,
   "metadata": {},
   "outputs": [
    {
     "name": "stdout",
     "output_type": "stream",
     "text": [
      "Enter the amount to be withdrawn from given account : 2000\n",
      "Withdrew $2000.0 from account CBI82540. New balance : $1000.0\n"
     ]
    }
   ],
   "source": [
    "print(my_bank.withdraw_amount(\"CBI82540\"))"
   ]
  },
  {
   "cell_type": "code",
   "execution_count": 155,
   "metadata": {},
   "outputs": [
    {
     "name": "stdout",
     "output_type": "stream",
     "text": [
      "Total balance in CBI in all accounts : 5000.0\n"
     ]
    }
   ],
   "source": [
    "print(my_bank.total_balance())"
   ]
  },
  {
   "cell_type": "code",
   "execution_count": null,
   "metadata": {},
   "outputs": [],
   "source": []
  }
 ],
 "metadata": {
  "kernelspec": {
   "display_name": "Python 3",
   "language": "python",
   "name": "python3"
  },
  "language_info": {
   "codemirror_mode": {
    "name": "ipython",
    "version": 3
   },
   "file_extension": ".py",
   "mimetype": "text/x-python",
   "name": "python",
   "nbconvert_exporter": "python",
   "pygments_lexer": "ipython3",
   "version": "3.7.6"
  }
 },
 "nbformat": 4,
 "nbformat_minor": 4
}
