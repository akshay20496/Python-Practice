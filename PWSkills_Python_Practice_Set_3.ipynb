{
 "cells": [
  {
   "cell_type": "markdown",
   "metadata": {},
   "source": [
    "Q.1. Create a dictionary called fruits with the following key-value pairs:\n",
    "\n",
    "\"apple\": 0.75\n",
    "\n",
    "\"banana\": 1.25\n",
    "\n",
    "\"orange\": 0.90\n",
    "\n",
    "Then, print out the price of a banana.\n",
    "\n",
    "\n"
   ]
  },
  {
   "cell_type": "code",
   "execution_count": 1,
   "metadata": {},
   "outputs": [],
   "source": [
    "d = {\"apple\" : 0.75, \"banana\" : 1.25, \"orange\" : 0.90}"
   ]
  },
  {
   "cell_type": "code",
   "execution_count": 2,
   "metadata": {},
   "outputs": [
    {
     "name": "stdout",
     "output_type": "stream",
     "text": [
      "{'apple': 0.75, 'banana': 1.25, 'orange': 0.9}\n"
     ]
    }
   ],
   "source": [
    "print(d)"
   ]
  },
  {
   "cell_type": "code",
   "execution_count": 3,
   "metadata": {},
   "outputs": [
    {
     "data": {
      "text/plain": [
       "dict"
      ]
     },
     "execution_count": 3,
     "metadata": {},
     "output_type": "execute_result"
    }
   ],
   "source": [
    "type(d)"
   ]
  },
  {
   "cell_type": "code",
   "execution_count": 4,
   "metadata": {},
   "outputs": [
    {
     "name": "stdout",
     "output_type": "stream",
     "text": [
      "1.25\n"
     ]
    }
   ],
   "source": [
    "print(d[\"banana\"])"
   ]
  },
  {
   "cell_type": "markdown",
   "metadata": {},
   "source": [
    "Q.2. Create an empty dictionary called ages. Add the following key-value pairs to the dictionary:\n",
    "\n",
    "\"Alice\": 30\n",
    "\n",
    "\"Bob\": 25\n",
    "\n",
    "\"Charlie\": 35\n",
    "\n",
    "Then, print out the age of Charlie."
   ]
  },
  {
   "cell_type": "code",
   "execution_count": 5,
   "metadata": {},
   "outputs": [],
   "source": [
    "d = {}"
   ]
  },
  {
   "cell_type": "code",
   "execution_count": 6,
   "metadata": {},
   "outputs": [
    {
     "data": {
      "text/plain": [
       "dict"
      ]
     },
     "execution_count": 6,
     "metadata": {},
     "output_type": "execute_result"
    }
   ],
   "source": [
    "type(d)"
   ]
  },
  {
   "cell_type": "code",
   "execution_count": 7,
   "metadata": {},
   "outputs": [],
   "source": [
    "key = [\"Alice\",\"Bob\",\"Charlie\"]\n",
    "value = [30,25,35]"
   ]
  },
  {
   "cell_type": "code",
   "execution_count": 8,
   "metadata": {},
   "outputs": [
    {
     "name": "stdout",
     "output_type": "stream",
     "text": [
      "{'Alice': 30, 'Bob': 25, 'Charlie': 35}\n"
     ]
    }
   ],
   "source": [
    "for i in range(len(key)):\n",
    "    d[key[i]] = value[i]  \n",
    "    \n",
    "print(d)"
   ]
  },
  {
   "cell_type": "code",
   "execution_count": 9,
   "metadata": {},
   "outputs": [],
   "source": [
    "d.clear()"
   ]
  },
  {
   "cell_type": "code",
   "execution_count": 10,
   "metadata": {},
   "outputs": [
    {
     "data": {
      "text/plain": [
       "{}"
      ]
     },
     "execution_count": 10,
     "metadata": {},
     "output_type": "execute_result"
    }
   ],
   "source": [
    "d"
   ]
  },
  {
   "cell_type": "code",
   "execution_count": 11,
   "metadata": {},
   "outputs": [],
   "source": [
    "d[\"Alice\"] = 30\n",
    "d[\"Bob\"] = 25\n",
    "d[\"Charlie\"] = 35"
   ]
  },
  {
   "cell_type": "code",
   "execution_count": 12,
   "metadata": {},
   "outputs": [
    {
     "name": "stdout",
     "output_type": "stream",
     "text": [
      "{'Alice': 30, 'Bob': 25, 'Charlie': 35}\n"
     ]
    }
   ],
   "source": [
    "print(d)"
   ]
  },
  {
   "cell_type": "code",
   "execution_count": 13,
   "metadata": {},
   "outputs": [
    {
     "name": "stdout",
     "output_type": "stream",
     "text": [
      "The age of Charlie is 35.\n"
     ]
    }
   ],
   "source": [
    "x = d[\"Charlie\"]\n",
    "print(f\"The age of Charlie is {x}.\")"
   ]
  },
  {
   "cell_type": "markdown",
   "metadata": {},
   "source": [
    "Q.3. Write a function called word_count(text) that takes a string as input and returns a dictionary where\n",
    "each key is a word in the text and its value is the number of times that word appears in the text. For\n",
    "example, word_count(\"hello world hello\") should return {\"hello\": 2, \"world\": 1}."
   ]
  },
  {
   "cell_type": "code",
   "execution_count": 14,
   "metadata": {},
   "outputs": [],
   "source": [
    "str1 = \"PW Skills Data Science\"\n",
    "l = str1.split(\" \")"
   ]
  },
  {
   "cell_type": "code",
   "execution_count": 15,
   "metadata": {},
   "outputs": [
    {
     "name": "stdout",
     "output_type": "stream",
     "text": [
      "[1, 1, 1, 1]\n"
     ]
    }
   ],
   "source": [
    "l1 = []\n",
    "for i in l:\n",
    "    l1.append(l.count(i))\n",
    "print(l1)"
   ]
  },
  {
   "cell_type": "code",
   "execution_count": 17,
   "metadata": {},
   "outputs": [],
   "source": [
    "def word_count(text):\n",
    "    text = text.lower()\n",
    "    l = text.split()\n",
    "    d = {}\n",
    "    for i in l:\n",
    "        d[i] = l.count(i)\n",
    "    return d"
   ]
  },
  {
   "cell_type": "code",
   "execution_count": 18,
   "metadata": {},
   "outputs": [
    {
     "data": {
      "text/plain": [
       "{'i': 2, 'am': 2, 'akshay': 1, 'and': 1, 'an': 1, 'engineer': 1}"
      ]
     },
     "execution_count": 18,
     "metadata": {},
     "output_type": "execute_result"
    }
   ],
   "source": [
    "word_count(\"I am Akshay and I am an Engineer\")"
   ]
  },
  {
   "cell_type": "code",
   "execution_count": 19,
   "metadata": {},
   "outputs": [
    {
     "data": {
      "text/plain": [
       "{'hello': 2, 'world': 1}"
      ]
     },
     "execution_count": 19,
     "metadata": {},
     "output_type": "execute_result"
    }
   ],
   "source": [
    "word_count(\"hello world hello\")"
   ]
  },
  {
   "cell_type": "code",
   "execution_count": 20,
   "metadata": {},
   "outputs": [],
   "source": [
    "import time"
   ]
  },
  {
   "cell_type": "code",
   "execution_count": 21,
   "metadata": {},
   "outputs": [],
   "source": [
    "# Decorator function\n",
    "def timer_test(func):\n",
    "    def timer_test_inner(*args, **kwargs):\n",
    "        start = time.time()\n",
    "        result = func(*args, **kwargs)\n",
    "        end = time.time()\n",
    "        print(end - start)\n",
    "        return result\n",
    "    return timer_test_inner"
   ]
  },
  {
   "cell_type": "code",
   "execution_count": 22,
   "metadata": {},
   "outputs": [],
   "source": [
    "@ timer_test\n",
    "def word_count(text):\n",
    "    text = text.lower()\n",
    "    l = text.split()\n",
    "    d = {}\n",
    "    for i in l:\n",
    "        d[i] = l.count(i)\n",
    "    return d"
   ]
  },
  {
   "cell_type": "code",
   "execution_count": 24,
   "metadata": {},
   "outputs": [
    {
     "name": "stdout",
     "output_type": "stream",
     "text": [
      "0.0\n"
     ]
    },
    {
     "data": {
      "text/plain": [
       "{'a': 2, 'friend': 2, 'in': 1, 'need': 1, 'is': 1, 'indeed': 1}"
      ]
     },
     "execution_count": 24,
     "metadata": {},
     "output_type": "execute_result"
    }
   ],
   "source": [
    "word_count(\"A friend in need is a friend indeed\")"
   ]
  },
  {
   "cell_type": "code",
   "execution_count": 25,
   "metadata": {},
   "outputs": [
    {
     "name": "stdout",
     "output_type": "stream",
     "text": [
      "0.0\n"
     ]
    },
    {
     "data": {
      "text/plain": [
       "{'this': 2, 'is': 2, 'a': 1, 'simple': 1, 'example.': 2, 'another': 1}"
      ]
     },
     "execution_count": 25,
     "metadata": {},
     "output_type": "execute_result"
    }
   ],
   "source": [
    "text = \"This is a simple example. This is another example.\"\n",
    "word_count(text)"
   ]
  },
  {
   "cell_type": "code",
   "execution_count": 26,
   "metadata": {},
   "outputs": [
    {
     "name": "stdout",
     "output_type": "stream",
     "text": [
      "0.0\n",
      "{'embark': 1, 'on': 1, 'a': 3, 'transformative': 1, 'learning': 3, 'journey': 1, 'with': 2, 'our': 1, 'python': 3, 'and': 4, 'machine': 3, 'essentials': 1, 'course.': 1, 'delve': 1, 'into': 2, 'the': 3, 'foundations': 1, 'of': 3, 'programming': 1, 'seamlessly': 1, 'transition': 1, 'fascinating': 1, 'world': 1, 'learning.': 1, 'this': 1, 'course': 1, 'is': 1, 'designed': 1, 'for': 2, 'individuals': 1, 'keen': 1, 'interest': 1, 'in': 1, 'desire': 1, 'to': 1, 'harness': 1, 'power': 1, 'creating': 1, 'intelligent': 1, 'impactful': 1, 'applications.': 1}\n"
     ]
    }
   ],
   "source": [
    "text = \"Embark on a transformative learning journey with our Python and Machine Learning Essentials Course. Delve into the foundations of Python programming and seamlessly transition into the fascinating world of machine learning. This course is designed for individuals with a keen interest in machine learning and a desire to harness the power of Python for creating intelligent and impactful applications.\"\n",
    "result = word_count(text)\n",
    "print(result)"
   ]
  },
  {
   "cell_type": "code",
   "execution_count": 27,
   "metadata": {},
   "outputs": [
    {
     "name": "stdout",
     "output_type": "stream",
     "text": [
      "0.0\n",
      "{'motivation': 2, 'is': 2, 'very': 1, 'important': 1, 'for': 1, 'the': 8, 'overall': 1, 'development': 1, 'of': 3, 'personality': 1, 'and': 6, 'mind': 1, 'people.': 1, 'it': 3, 'also': 1, 'puts': 1, 'a': 4, 'person': 5, 'in': 3, 'action': 1, 'competitive': 1, 'state.': 1, 'furthermore,': 1, 'improves': 1, 'efficiency': 1, 'desire': 1, 'to': 8, 'achieve': 1, 'goal.': 1, 'leads': 1, 'stability': 1, 'improvement': 1, 'work.': 1, 'conclude,': 1, 'one': 1, 'key': 1, 'elements': 1, 'that': 1, 'help': 1, 'be': 1, 'successful.': 1, 'motivated': 1, 'tries': 3, 'push': 1, 'his': 4, 'limits': 1, 'always': 3, 'improve': 1, 'performance': 1, 'day': 1, 'by': 1, 'day.': 1, 'also,': 1, 'gives': 1, 'heror': 1, 'best': 1, 'no': 1, 'matter': 1, 'what': 1, 'task': 1, 'is.': 1, 'besides,': 1, 'remain': 1, 'progressive': 1, 'dedicated': 1, 'her': 1, 'or': 1, 'goals.': 1}\n"
     ]
    }
   ],
   "source": [
    "text = \"Motivation is very important for the overall development of the personality and mind of the people. It also puts a person in action and in a competitive state. Furthermore, it improves efficiency and desire to achieve the goal. It leads to stability and improvement in work. To conclude, motivation is one of the key elements that help a person to be successful. A motivated person tries to push his limits and always tries to improve his performance day by day. Also, the person always gives heror his best no matter what the task is. Besides, the person always tries to remain progressive and dedicated to her or his goals.\"\n",
    "print(word_count(text))"
   ]
  },
  {
   "cell_type": "code",
   "execution_count": null,
   "metadata": {},
   "outputs": [],
   "source": [
    "def word_count(text):\n",
    "    text = text.lower()\n",
    "    l = text.split()\n",
    "    d = {}\n",
    "    for i in l:\n",
    "        d[i] = l.count(i)\n",
    "    return d"
   ]
  },
  {
   "cell_type": "code",
   "execution_count": 28,
   "metadata": {},
   "outputs": [
    {
     "name": "stdout",
     "output_type": "stream",
     "text": [
      "0.0009975433349609375\n",
      "{'motivation': 2, 'is': 2, 'very': 1, 'important': 1, 'for': 1, 'the': 8, 'overall': 1, 'development': 1, 'of': 3, 'personality': 1, 'and': 6, 'mind': 1, 'people.': 1, 'it': 3, 'also': 1, 'puts': 1, 'a': 4, 'person': 5, 'in': 3, 'action': 1, 'competitive': 1, 'state.': 1, 'furthermore,': 1, 'improves': 1, 'efficiency': 1, 'desire': 1, 'to': 8, 'achieve': 1, 'goal.': 1, 'leads': 1, 'stability': 1, 'improvement': 1, 'work.': 1, 'conclude,': 1, 'one': 1, 'key': 1, 'elements': 1, 'that': 1, 'help': 1, 'be': 1, 'successful.': 1, 'motivated': 1, 'tries': 3, 'push': 1, 'his': 4, 'limits': 1, 'always': 3, 'improve': 1, 'performance': 1, 'day': 1, 'by': 1, 'day.': 1, 'also,': 1, 'gives': 1, 'heror': 1, 'best': 1, 'no': 1, 'matter': 1, 'what': 1, 'task': 1, 'is.': 1, 'besides,': 1, 'remain': 1, 'progressive': 1, 'dedicated': 1, 'her': 1, 'or': 1, 'goals.': 1}\n",
      "0.0009975433349609375\n"
     ]
    }
   ],
   "source": [
    "start = time.time()\n",
    "print(word_count(text))\n",
    "end = time.time()\n",
    "print(end - start)"
   ]
  },
  {
   "cell_type": "markdown",
   "metadata": {},
   "source": [
    "Q.4. Create a dictionary called phone_book with the following key-value pairs:\n",
    "\n",
    "\"Alice\": \"555-1234\"\n",
    "\n",
    "\"Bob\": \"555-5678\"\n",
    "\n",
    "\"Charlie\": \"555-9012\"\n",
    "\n",
    "Then, prompt the user to enter a name and print out the corresponding phone number. If the name is not\n",
    "in the phone book, print out a message saying that the name was not found."
   ]
  },
  {
   "cell_type": "code",
   "execution_count": 29,
   "metadata": {},
   "outputs": [],
   "source": [
    "key = [\"Alice\",\"Bob\",\"Charlie\"]\n",
    "value = [\"555-1234\", \"555-5678\", \"555-9012\"]"
   ]
  },
  {
   "cell_type": "code",
   "execution_count": 30,
   "metadata": {},
   "outputs": [],
   "source": [
    "d = {}\n",
    "for i in range(len(key)):\n",
    "    d[key[i]] = value[i] "
   ]
  },
  {
   "cell_type": "code",
   "execution_count": 31,
   "metadata": {},
   "outputs": [
    {
     "name": "stdout",
     "output_type": "stream",
     "text": [
      "{'Alice': '555-1234', 'Bob': '555-5678', 'Charlie': '555-9012'}\n"
     ]
    }
   ],
   "source": [
    "print(d)"
   ]
  },
  {
   "cell_type": "code",
   "execution_count": 32,
   "metadata": {},
   "outputs": [
    {
     "data": {
      "text/plain": [
       "dict_keys(['Alice', 'Bob', 'Charlie'])"
      ]
     },
     "execution_count": 32,
     "metadata": {},
     "output_type": "execute_result"
    }
   ],
   "source": [
    "d.keys()"
   ]
  },
  {
   "cell_type": "code",
   "execution_count": 33,
   "metadata": {},
   "outputs": [
    {
     "name": "stdout",
     "output_type": "stream",
     "text": [
      "Enter the the name of user : Akshay\n",
      "The given name Akshay was not found.\n"
     ]
    }
   ],
   "source": [
    "Name = input(\"Enter the the name of user : \")\n",
    "if Name in d.keys():\n",
    "    print(f\"The number of {Name} is {d[Name]}\")\n",
    "else: \n",
    "    print(f\"The given name {Name} was not found.\")"
   ]
  },
  {
   "cell_type": "code",
   "execution_count": 34,
   "metadata": {},
   "outputs": [
    {
     "name": "stdout",
     "output_type": "stream",
     "text": [
      "Enter the the name of user : Charlie\n",
      "The number of Charlie is 555-9012\n"
     ]
    }
   ],
   "source": [
    "Name = input(\"Enter the the name of user : \")\n",
    "if Name in d.keys():\n",
    "    print(f\"The number of {Name} is {d[Name]}\")\n",
    "else: \n",
    "    print(f\"The given name {Name} was not found.\")"
   ]
  },
  {
   "cell_type": "code",
   "execution_count": 35,
   "metadata": {},
   "outputs": [],
   "source": [
    "def get_number(dictionay):\n",
    "    Name = input(\"Enter the the name of user : \")\n",
    "    if Name in d.keys():\n",
    "        return f\"The number of {Name} is {d[Name]}\"\n",
    "    else: \n",
    "        return f\"The given name {Name} was not found.\""
   ]
  },
  {
   "cell_type": "code",
   "execution_count": 36,
   "metadata": {},
   "outputs": [
    {
     "name": "stdout",
     "output_type": "stream",
     "text": [
      "Enter the the name of user : Bob\n"
     ]
    },
    {
     "data": {
      "text/plain": [
       "'The number of Bob is 555-5678'"
      ]
     },
     "execution_count": 36,
     "metadata": {},
     "output_type": "execute_result"
    }
   ],
   "source": [
    "get_number(d)"
   ]
  },
  {
   "cell_type": "code",
   "execution_count": 37,
   "metadata": {},
   "outputs": [
    {
     "name": "stdout",
     "output_type": "stream",
     "text": [
      "Enter the the name of user : Akshay\n"
     ]
    },
    {
     "data": {
      "text/plain": [
       "'The given name Akshay was not found.'"
      ]
     },
     "execution_count": 37,
     "metadata": {},
     "output_type": "execute_result"
    }
   ],
   "source": [
    "get_number(d)"
   ]
  },
  {
   "cell_type": "markdown",
   "metadata": {},
   "source": [
    "Q.5. Write a program that prompts the user to enter a number between 1 and 10. If the number is less than\n",
    "5, print out \"Too low!\", otherwise print out \"Too high!\"."
   ]
  },
  {
   "cell_type": "code",
   "execution_count": 6,
   "metadata": {},
   "outputs": [],
   "source": [
    "def less_high_number(numbers):\n",
    "    number = int(input(\"Enter the number : \"))\n",
    "    if number in numbers and number < 5:\n",
    "        return \"Too low!\"\n",
    "    elif number==5:\n",
    "        return \"Equal to 5.\"\n",
    "    elif number in numbers and number > 5:\n",
    "        return \"Too high!\"\n",
    "    else:\n",
    "        return \"The number is not in given list but it is too much high!\""
   ]
  },
  {
   "cell_type": "code",
   "execution_count": 7,
   "metadata": {},
   "outputs": [],
   "source": [
    "l = []\n",
    "for i in range(1,11):\n",
    "    l.append(i)"
   ]
  },
  {
   "cell_type": "code",
   "execution_count": 8,
   "metadata": {},
   "outputs": [
    {
     "name": "stdout",
     "output_type": "stream",
     "text": [
      "[1, 2, 3, 4, 5, 6, 7, 8, 9, 10]\n"
     ]
    }
   ],
   "source": [
    "print(l)"
   ]
  },
  {
   "cell_type": "code",
   "execution_count": 9,
   "metadata": {},
   "outputs": [
    {
     "name": "stdout",
     "output_type": "stream",
     "text": [
      "Enter the number : 8\n"
     ]
    },
    {
     "data": {
      "text/plain": [
       "'Too high!'"
      ]
     },
     "execution_count": 9,
     "metadata": {},
     "output_type": "execute_result"
    }
   ],
   "source": [
    "less_high_number(l)"
   ]
  },
  {
   "cell_type": "code",
   "execution_count": 10,
   "metadata": {},
   "outputs": [
    {
     "name": "stdout",
     "output_type": "stream",
     "text": [
      "Enter the number : 2\n"
     ]
    },
    {
     "data": {
      "text/plain": [
       "'Too low!'"
      ]
     },
     "execution_count": 10,
     "metadata": {},
     "output_type": "execute_result"
    }
   ],
   "source": [
    "less_high_number(l)"
   ]
  },
  {
   "cell_type": "code",
   "execution_count": 11,
   "metadata": {},
   "outputs": [
    {
     "name": "stdout",
     "output_type": "stream",
     "text": [
      "Enter the number : 100\n"
     ]
    },
    {
     "data": {
      "text/plain": [
       "'The number is not in given list but it is too much high!'"
      ]
     },
     "execution_count": 11,
     "metadata": {},
     "output_type": "execute_result"
    }
   ],
   "source": [
    "less_high_number(l)"
   ]
  },
  {
   "cell_type": "code",
   "execution_count": 12,
   "metadata": {},
   "outputs": [
    {
     "name": "stdout",
     "output_type": "stream",
     "text": [
      "Enter the number : 5\n"
     ]
    },
    {
     "data": {
      "text/plain": [
       "'Equal to 5.'"
      ]
     },
     "execution_count": 12,
     "metadata": {},
     "output_type": "execute_result"
    }
   ],
   "source": [
    "less_high_number(l)"
   ]
  },
  {
   "cell_type": "code",
   "execution_count": 14,
   "metadata": {},
   "outputs": [
    {
     "name": "stdout",
     "output_type": "stream",
     "text": [
      "Enter the number : 10\n",
      "Too high!\n"
     ]
    }
   ],
   "source": [
    "number = int(input(\"Enter the number between 1 and 10 : \"))\n",
    "if number in l and number < 5:\n",
    "    print(\"Too low!\")\n",
    "elif number==5:\n",
    "    print(\"Equal to 5.\")\n",
    "elif number in l and number > 5:\n",
    "    print(\"Too high!\")\n",
    "else:\n",
    "    print(\"The number is not in given list but it is too much high!\")"
   ]
  },
  {
   "cell_type": "code",
   "execution_count": 15,
   "metadata": {},
   "outputs": [
    {
     "name": "stdout",
     "output_type": "stream",
     "text": [
      "Enter the number : 3\n",
      "Too low!\n"
     ]
    }
   ],
   "source": [
    "number = int(input(\"Enter the number : \"))\n",
    "if number in l and number < 5:\n",
    "    print(\"Too low!\")\n",
    "elif number==5:\n",
    "    print(\"Equal to 5.\")\n",
    "elif number in l and number > 5:\n",
    "    print(\"Too high!\")\n",
    "else:\n",
    "    print(\"The number is not in given list but it is too much high!\")"
   ]
  },
  {
   "cell_type": "code",
   "execution_count": 16,
   "metadata": {},
   "outputs": [
    {
     "name": "stdout",
     "output_type": "stream",
     "text": [
      "Enter the number : 50\n",
      "The number is not in given list but it is too much high!\n"
     ]
    }
   ],
   "source": [
    "number = int(input(\"Enter the number : \"))\n",
    "if number in l and number < 5:\n",
    "    print(\"Too low!\")\n",
    "elif number==5:\n",
    "    print(\"Equal to 5.\")\n",
    "elif number in l and number > 5:\n",
    "    print(\"Too high!\")\n",
    "else:\n",
    "    print(\"The number is not in given list but it is too much high!\")"
   ]
  },
  {
   "cell_type": "markdown",
   "metadata": {},
   "source": [
    "Q.6. Write a program that prompts the user to enter a password. If the password is \"password123\", print\n",
    "out \"Access granted\", otherwise print out \"Access denied\"."
   ]
  },
  {
   "cell_type": "code",
   "execution_count": 17,
   "metadata": {},
   "outputs": [
    {
     "name": "stdout",
     "output_type": "stream",
     "text": [
      "Enter the password : passwor123\n",
      "Access denied\n"
     ]
    }
   ],
   "source": [
    "password = input(\"Enter the password : \")\n",
    "if password == \"password123\":\n",
    "    print(\"Access granted\")\n",
    "else :\n",
    "    print(\"Access denied\")"
   ]
  },
  {
   "cell_type": "code",
   "execution_count": 19,
   "metadata": {},
   "outputs": [
    {
     "name": "stdout",
     "output_type": "stream",
     "text": [
      "Enter the password : password123\n",
      "Access granted\n"
     ]
    }
   ],
   "source": [
    "password = input(\"Enter the password : \")\n",
    "if password == \"password123\":\n",
    "    print(\"Access granted\")\n",
    "else :\n",
    "    print(\"Access denied\")"
   ]
  },
  {
   "cell_type": "markdown",
   "metadata": {},
   "source": [
    "Q.7. Write a program that prompts the user to enter a positive integer. Then, use a loop to print out all the\n",
    "odd numbers from 1 to that integer."
   ]
  },
  {
   "cell_type": "code",
   "execution_count": 23,
   "metadata": {},
   "outputs": [],
   "source": [
    "def odd_numbers(num):\n",
    "    odd_numbers_list = []\n",
    "    for i in range(1,num):\n",
    "        if i%2 != 0:\n",
    "            odd_numbers_list.append(i)\n",
    "    return odd_numbers_list"
   ]
  },
  {
   "cell_type": "code",
   "execution_count": 25,
   "metadata": {},
   "outputs": [
    {
     "name": "stdout",
     "output_type": "stream",
     "text": [
      "[1, 3, 5, 7, 9, 11, 13, 15, 17, 19, 21, 23, 25, 27, 29, 31, 33, 35, 37, 39, 41, 43, 45, 47, 49, 51, 53, 55, 57, 59, 61, 63, 65, 67, 69, 71, 73, 75, 77, 79, 81, 83, 85, 87, 89, 91, 93, 95, 97, 99]\n"
     ]
    }
   ],
   "source": [
    "print(odd_numbers(100))"
   ]
  },
  {
   "cell_type": "code",
   "execution_count": 26,
   "metadata": {},
   "outputs": [
    {
     "name": "stdout",
     "output_type": "stream",
     "text": [
      "Enter the positive integer : 100\n",
      "[1, 3, 5, 7, 9, 11, 13, 15, 17, 19, 21, 23, 25, 27, 29, 31, 33, 35, 37, 39, 41, 43, 45, 47, 49, 51, 53, 55, 57, 59, 61, 63, 65, 67, 69, 71, 73, 75, 77, 79, 81, 83, 85, 87, 89, 91, 93, 95, 97, 99]\n"
     ]
    }
   ],
   "source": [
    "Number = int(input(\"Enter the positive integer : \"))\n",
    "odd_num = []\n",
    "for i in range(1, Number):\n",
    "    if i%2 != 0:\n",
    "        odd_num.append(i)\n",
    "print(odd_num)"
   ]
  },
  {
   "cell_type": "markdown",
   "metadata": {},
   "source": [
    "Q.8. Write a program that generates a random number between 1 and 100 and then prompts the user to\n",
    "guess the number. If the user's guess is too low, print out \"Too low!\", if the guess is too high, print out \"Too\n",
    "high!\", and if the guess is correct, print out \"You win!\"."
   ]
  },
  {
   "cell_type": "code",
   "execution_count": 1,
   "metadata": {},
   "outputs": [],
   "source": [
    "import random"
   ]
  },
  {
   "cell_type": "code",
   "execution_count": 3,
   "metadata": {},
   "outputs": [
    {
     "name": "stdout",
     "output_type": "stream",
     "text": [
      "Enter the user guess number : 45\n",
      "Too low!\n"
     ]
    }
   ],
   "source": [
    "random_number = random.randint(1,100)   # Generating random number between 1 and 100\n",
    "guess_number = int(input(\"Enter the user guess number : \"))  # Guessing the number\n",
    "\n",
    "# Checking if user's guess is correct or not \n",
    "\n",
    "if guess_number < random_number :\n",
    "    print(\"Too low!\")\n",
    "elif guess_number == random_number :\n",
    "    print(\"You win!\")\n",
    "else:\n",
    "    print(\"Too high!\")"
   ]
  },
  {
   "cell_type": "code",
   "execution_count": 4,
   "metadata": {},
   "outputs": [
    {
     "name": "stdout",
     "output_type": "stream",
     "text": [
      "Enter the user guess number : 40\n",
      "Too low!\n",
      "Enter the user guess number : 45\n",
      "Too low!\n",
      "Enter the user guess number : 50\n",
      "Too high!\n",
      "Enter the user guess number : 48\n",
      "Too high!\n",
      "Enter the user guess number : 46\n",
      "Too low!\n",
      "Enter the user guess number : 44\n",
      "Too low!\n",
      "Enter the user guess number : 41\n",
      "Too low!\n",
      "Enter the user guess number : 40\n",
      "Too low!\n",
      "Enter the user guess number : 47\n",
      "You win!\n"
     ]
    }
   ],
   "source": [
    "random_number = random.randint(1,100)   # Generating random number between 1 and 100\n",
    "\n",
    "# Checking if user's guess is correct or not \n",
    "# Using a while loop to repeatedly prompt the user to guess the number until user guess correctly\n",
    "\n",
    "while True:\n",
    "    \n",
    "    guess_number = int(input(\"Enter the user guess number : \"))  # Guessing the number\n",
    "    \n",
    "    if guess_number == random_number :\n",
    "        print(\"You win!\")\n",
    "        break\n",
    "    elif guess_number < random_number :\n",
    "        print(\"Too low!\")\n",
    "    else:\n",
    "        print(\"Too high!\")"
   ]
  },
  {
   "cell_type": "markdown",
   "metadata": {},
   "source": [
    "Q.9. Write a program that generates a random number between 1 and 10 and then prompts the user to\n",
    "guess the number. The user has three attempts to guess the number. If the user guesses correctly within\n",
    "three attempts, print out \"You win!\", otherwise print out \"You lose!\"."
   ]
  },
  {
   "cell_type": "code",
   "execution_count": 2,
   "metadata": {},
   "outputs": [],
   "source": [
    "import random"
   ]
  },
  {
   "cell_type": "code",
   "execution_count": 7,
   "metadata": {},
   "outputs": [
    {
     "name": "stdout",
     "output_type": "stream",
     "text": [
      "Enter the user guess number : 4\n",
      "Too high!\n",
      "Enter the user guess number : 2\n",
      "Too low!\n",
      "Enter the user guess number : 3\n",
      "You win!\n"
     ]
    }
   ],
   "source": [
    "random_number = random.randint(1,10)       # Generating random number between 1 and 10\n",
    "\n",
    "attempts = 3\n",
    "\n",
    "for i in range(attempts):\n",
    "        \n",
    "    guess_number = int(input(\"Enter the user guess number : \"))\n",
    "    \n",
    "    if guess_number == random_number:\n",
    "        print(\"You win!\")\n",
    "        break\n",
    "    elif guess_number < random_number:\n",
    "        print(\"Too low!\")\n",
    "    else:\n",
    "        print(\"Too high!\")\n",
    "        \n",
    "else:\n",
    "    print(\"You lose!\")"
   ]
  },
  {
   "cell_type": "code",
   "execution_count": 8,
   "metadata": {},
   "outputs": [
    {
     "name": "stdout",
     "output_type": "stream",
     "text": [
      "Enter the user guess number : 5\n",
      "Too low!\n",
      "Enter the user guess number : 9\n",
      "Too high!\n",
      "Enter the user guess number : 4\n",
      "Too low!\n",
      "You lose!\n"
     ]
    }
   ],
   "source": [
    "random_number = random.randint(1,10)       # Generating random number between 1 and 10\n",
    "\n",
    "attempts = 3\n",
    "\n",
    "for i in range(attempts):\n",
    "        \n",
    "    guess_number = int(input(\"Enter the user guess number : \"))\n",
    "    \n",
    "    if guess_number == random_number:\n",
    "        print(\"You win!\")\n",
    "        break\n",
    "    elif guess_number < random_number:\n",
    "        print(\"Too low!\")\n",
    "    else:\n",
    "        print(\"Too high!\")\n",
    "        \n",
    "else:\n",
    "    print(\"You lose!\")"
   ]
  },
  {
   "cell_type": "code",
   "execution_count": 9,
   "metadata": {},
   "outputs": [
    {
     "name": "stdout",
     "output_type": "stream",
     "text": [
      "Enter the user guess number : 7\n",
      "Too high!\n",
      "Enter the user guess number : 6\n",
      "Too high!\n",
      "Enter the user guess number : 4\n",
      "You win!\n"
     ]
    }
   ],
   "source": [
    "random_number = random.randint(1,10)       # Generating random number between 1 and 10\n",
    "\n",
    "attempts = 3\n",
    "\n",
    "for i in range(attempts):\n",
    "        \n",
    "    guess_number = int(input(\"Enter the user guess number : \"))\n",
    "    \n",
    "    if guess_number == random_number:\n",
    "        print(\"You win!\")\n",
    "        break\n",
    "    elif guess_number < random_number:\n",
    "        print(\"Too low!\")\n",
    "    else:\n",
    "        print(\"Too high!\")\n",
    "        \n",
    "else:\n",
    "    print(\"You lose!\")"
   ]
  },
  {
   "cell_type": "markdown",
   "metadata": {},
   "source": [
    "Q.10. Write a program that prompts the user to enter their age and then prints out whether they are a child\n",
    "(age 0-12), a teenager (age 13-19), an adult (age 20-59), or a senior (age 60+)"
   ]
  },
  {
   "cell_type": "code",
   "execution_count": 10,
   "metadata": {},
   "outputs": [
    {
     "name": "stdout",
     "output_type": "stream",
     "text": [
      "Enter the age : 5\n",
      "The user is child.\n"
     ]
    }
   ],
   "source": [
    "age = int(input(\"Enter the age : \"))\n",
    "if 0 <= age <= 12:\n",
    "    print(\"The user is child.\")\n",
    "elif 13 <= age <= 19:\n",
    "    print(\"The user is teenager.\")\n",
    "elif 20 <= age <= 59:\n",
    "    print(\"The user is an adult.\")\n",
    "else:\n",
    "    print(\"The user is a senior.\")"
   ]
  },
  {
   "cell_type": "code",
   "execution_count": 11,
   "metadata": {},
   "outputs": [
    {
     "name": "stdout",
     "output_type": "stream",
     "text": [
      "Enter the age : 18\n",
      "The user is teenager.\n"
     ]
    }
   ],
   "source": [
    "age = int(input(\"Enter the age : \"))\n",
    "if 0 <= age <= 12:\n",
    "    print(\"The user is child.\")\n",
    "elif 13 <= age <= 19:\n",
    "    print(\"The user is teenager.\")\n",
    "elif 20 <= age <= 59:\n",
    "    print(\"The user is an adult.\")\n",
    "else:\n",
    "    print(\"The user is a senior.\")"
   ]
  },
  {
   "cell_type": "code",
   "execution_count": 12,
   "metadata": {},
   "outputs": [
    {
     "name": "stdout",
     "output_type": "stream",
     "text": [
      "Enter the age : 27\n",
      "The user is an adult.\n"
     ]
    }
   ],
   "source": [
    "age = int(input(\"Enter the age : \"))\n",
    "if 0 <= age <= 12:\n",
    "    print(\"The user is child.\")\n",
    "elif 13 <= age <= 19:\n",
    "    print(\"The user is teenager.\")\n",
    "elif 20 <= age <= 59:\n",
    "    print(\"The user is an adult.\")\n",
    "else:\n",
    "    print(\"The user is a senior.\")"
   ]
  },
  {
   "cell_type": "code",
   "execution_count": 13,
   "metadata": {},
   "outputs": [
    {
     "name": "stdout",
     "output_type": "stream",
     "text": [
      "Enter the age : 60\n",
      "The user is a senior.\n"
     ]
    }
   ],
   "source": [
    "age = int(input(\"Enter the age : \"))\n",
    "if 0 <= age <= 12:\n",
    "    print(\"The user is child.\")\n",
    "elif 13 <= age <= 19:\n",
    "    print(\"The user is teenager.\")\n",
    "elif 20 <= age <= 59:\n",
    "    print(\"The user is an adult.\")\n",
    "else:\n",
    "    print(\"The user is a senior.\")"
   ]
  },
  {
   "cell_type": "code",
   "execution_count": 14,
   "metadata": {},
   "outputs": [],
   "source": [
    "def age_group(age):\n",
    "    if 0 <= age <= 12:\n",
    "        return \"The user is child.\"\n",
    "    elif 13 <= age <= 19:\n",
    "        return \"The user is teenager.\"\n",
    "    elif 20 <= age <= 59:\n",
    "        return \"The user is an adult.\"\n",
    "    else:\n",
    "        return \"The user is a senior.\""
   ]
  },
  {
   "cell_type": "code",
   "execution_count": 15,
   "metadata": {},
   "outputs": [
    {
     "data": {
      "text/plain": [
       "'The user is child.'"
      ]
     },
     "execution_count": 15,
     "metadata": {},
     "output_type": "execute_result"
    }
   ],
   "source": [
    "age_group(5)"
   ]
  },
  {
   "cell_type": "code",
   "execution_count": 16,
   "metadata": {},
   "outputs": [
    {
     "data": {
      "text/plain": [
       "'The user is teenager.'"
      ]
     },
     "execution_count": 16,
     "metadata": {},
     "output_type": "execute_result"
    }
   ],
   "source": [
    "age_group(15)"
   ]
  },
  {
   "cell_type": "code",
   "execution_count": 17,
   "metadata": {},
   "outputs": [
    {
     "data": {
      "text/plain": [
       "'The user is an adult.'"
      ]
     },
     "execution_count": 17,
     "metadata": {},
     "output_type": "execute_result"
    }
   ],
   "source": [
    "age_group(26)"
   ]
  },
  {
   "cell_type": "code",
   "execution_count": 18,
   "metadata": {},
   "outputs": [
    {
     "data": {
      "text/plain": [
       "'The user is a senior.'"
      ]
     },
     "execution_count": 18,
     "metadata": {},
     "output_type": "execute_result"
    }
   ],
   "source": [
    "age_group(65)"
   ]
  },
  {
   "cell_type": "code",
   "execution_count": null,
   "metadata": {},
   "outputs": [],
   "source": []
  }
 ],
 "metadata": {
  "kernelspec": {
   "display_name": "Python 3",
   "language": "python",
   "name": "python3"
  },
  "language_info": {
   "codemirror_mode": {
    "name": "ipython",
    "version": 3
   },
   "file_extension": ".py",
   "mimetype": "text/x-python",
   "name": "python",
   "nbconvert_exporter": "python",
   "pygments_lexer": "ipython3",
   "version": "3.7.6"
  }
 },
 "nbformat": 4,
 "nbformat_minor": 4
}
